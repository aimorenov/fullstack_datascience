{
 "cells": [
  {
   "cell_type": "markdown",
   "metadata": {},
   "source": [
    "# Walmart Sales: linear regressor training\n",
    "\n",
    "In this notebook I trained a first linear regressor on the Wallmart Sales data[(Kaggle competition)](https://www.kaggle.com/competitions/walmart-sales-forecasting/overview) to predict weekly sales using multiple variables.  \n",
    " \n",
    " In more detail, I:  \n",
    "- Pre-processed train and test sets before modeling:  \n",
    "    - **Imputed** certain **missing** explanatory **variables**\n",
    "    - **Scaled** any numerical explanatory variables and **encoded** categorical variables  \n",
    "- Applied a first **multivariate linear regressor** using:  \n",
    "    - Basic explanatory variables  \n",
    "    - Feature engineered variables  \n"
   ]
  },
  {
   "cell_type": "markdown",
   "metadata": {},
   "source": [
    "## Table of Contents  \n",
    "1. Train and test set split\n",
    "2. Process variables: impute missing values / scale / onehot encode\n",
    "3. Train model: Linear regressor  \n",
    "4. Feature importance  \n",
    "5. Conclusions"
   ]
  },
  {
   "cell_type": "markdown",
   "metadata": {},
   "source": [
    "## Import libraries"
   ]
  },
  {
   "cell_type": "code",
   "execution_count": 29,
   "metadata": {},
   "outputs": [],
   "source": [
    "import pandas as pd\n",
    "import numpy as np\n",
    "\n",
    "from sklearn.model_selection import train_test_split\n",
    "from sklearn.pipeline import Pipeline\n",
    "from sklearn.experimental import enable_iterative_imputer\n",
    "from sklearn.impute import SimpleImputer, IterativeImputer\n",
    "from sklearn.preprocessing import  StandardScaler, OneHotEncoder\n",
    "from feature_engine.imputation import RandomSampleImputer\n",
    "from sklearn.compose import ColumnTransformer\n",
    "\n",
    "from sklearn.linear_model import LinearRegression\n",
    "from sklearn.metrics import r2_score\n",
    "from sklearn.feature_selection import f_regression\n",
    "\n",
    "import scipy.sparse"
   ]
  },
  {
   "cell_type": "markdown",
   "metadata": {},
   "source": [
    "## Import data"
   ]
  },
  {
   "cell_type": "markdown",
   "metadata": {},
   "source": [
    "### Target variable"
   ]
  },
  {
   "cell_type": "code",
   "execution_count": 30,
   "metadata": {},
   "outputs": [
    {
     "name": "stdout",
     "output_type": "stream",
     "text": [
      "Target variable length: 131\n"
     ]
    },
    {
     "data": {
      "text/plain": [
       "[1572117.54, 1807545.43, 1244390.03, 1644470.66, 1857533.7]"
      ]
     },
     "execution_count": 30,
     "metadata": {},
     "output_type": "execute_result"
    }
   ],
   "source": [
    "filename = 'data/interim/Walmart_Store_sales-targetvar.csv'\n",
    "with open(filename) as file:\n",
    "    Y = [float(line.rstrip()) for line in file]\n",
    "\n",
    "print('Target variable length:',len(Y))\n",
    "Y[0:5]"
   ]
  },
  {
   "cell_type": "markdown",
   "metadata": {},
   "source": [
    "### Basic explanatory variables"
   ]
  },
  {
   "cell_type": "code",
   "execution_count": 31,
   "metadata": {},
   "outputs": [
    {
     "name": "stdout",
     "output_type": "stream",
     "text": [
      "Basic explanatory variables shape: (131, 8)\n",
      "Basic explanatory variables: ['Store_str', 'quarter', 'Fuel_Price', 'weekofyear', 'Holiday_Flag', 'Temperature', 'CPI', 'Unemployment']\n"
     ]
    },
    {
     "data": {
      "text/plain": [
       "array([[  6.        ,   1.        ,   3.045     ,   7.        ,\n",
       "                 nan,  15.33888889, 214.7775231 ,   6.858     ],\n",
       "       [ 13.        ,   1.        ,   3.435     ,  12.        ,\n",
       "          0.        ,   5.76666667, 128.6160645 ,   7.47      ],\n",
       "       [ 11.        ,          nan,          nan,          nan,\n",
       "          0.        ,  29.20555556, 214.5564968 ,   7.346     ]])"
      ]
     },
     "execution_count": 31,
     "metadata": {},
     "output_type": "execute_result"
    }
   ],
   "source": [
    "X_basic_df = pd.read_csv('data/interim/Walmart_Store_sales-expvar-basic.csv')\n",
    "X_basic_df.drop(['year'], axis=1, inplace=True)\n",
    "print('Basic explanatory variables shape:', X_basic_df.shape)\n",
    "\n",
    "basic_vars_ls = X_basic_df.columns.tolist()\n",
    "print('Basic explanatory variables:', basic_vars_ls)\n",
    "\n",
    "X_basic = X_basic_df.values\n",
    "\n",
    "X_basic[0:3,:]"
   ]
  },
  {
   "cell_type": "markdown",
   "metadata": {},
   "source": [
    "### Engineered explanatory variables"
   ]
  },
  {
   "cell_type": "code",
   "execution_count": 32,
   "metadata": {},
   "outputs": [
    {
     "name": "stdout",
     "output_type": "stream",
     "text": [
      "Engineered explanatory variables shape: (131, 6)\n",
      "Engineered explanatory variables: ['quarter_str', 'Fuel_Price', 'Temperature_group', 'Store_group_CPI', 'Store_group_unemp', 'weekofyear_holiday']\n"
     ]
    },
    {
     "data": {
      "text/plain": [
       "array([['q1', 3.045, 'mean_temp', 'highsales_highCPI',\n",
       "        'highsales_lowunemp', nan],\n",
       "       ['q1', 3.435, 'low_temp', 'highsales_lowCPI',\n",
       "        'highsales_highunemp', 0.0],\n",
       "       [nan, nan, 'high_temp', 'lowsales_highCPI', 'lowsales_lowunemp',\n",
       "        0.0]], dtype=object)"
      ]
     },
     "execution_count": 32,
     "metadata": {},
     "output_type": "execute_result"
    }
   ],
   "source": [
    "X_eng_df = pd.read_csv('data/interim/Walmart_Store_sales-expvar-feateng.csv')\n",
    "X_eng_df.drop(['year'], axis=1, inplace=True)\n",
    "print('Engineered explanatory variables shape:', X_eng_df.shape)\n",
    "\n",
    "eng_vars_ls = X_eng_df .columns.tolist()\n",
    "print('Engineered explanatory variables:', eng_vars_ls)\n",
    "\n",
    "X_eng = X_eng_df .values\n",
    "X_eng[0:3,:]"
   ]
  },
  {
   "cell_type": "markdown",
   "metadata": {},
   "source": [
    "## 1. Train and test set split  \n",
    "Choose a slightly smaller test size due to low number of samples"
   ]
  },
  {
   "cell_type": "code",
   "execution_count": 33,
   "metadata": {},
   "outputs": [
    {
     "name": "stdout",
     "output_type": "stream",
     "text": [
      "X_basic_train shape: (104, 8)\n",
      "X_basic_test shape: (27, 8)\n",
      "X_eng_train shape: (104, 6)\n",
      "X_eng_test shape: (27, 6)\n"
     ]
    }
   ],
   "source": [
    "X_basic_train, X_basic_test, Y_train, Y_test = train_test_split(X_basic, Y, test_size=0.2, random_state=0)\n",
    "\n",
    "X_eng_train, X_eng_test, Y_train, Y_test = train_test_split(X_eng, Y, test_size=0.2, random_state=0)\n",
    "\n",
    "print('X_basic_train shape:', X_basic_train.shape)\n",
    "print('X_basic_test shape:', X_basic_test.shape)\n",
    "\n",
    "print('X_eng_train shape:', X_eng_train.shape)\n",
    "print('X_eng_test shape:', X_eng_test.shape)"
   ]
  },
  {
   "cell_type": "markdown",
   "metadata": {},
   "source": [
    "## 2. Process variables:  \n",
    "Impute missing values / scale / onehot encode"
   ]
  },
  {
   "cell_type": "code",
   "execution_count": 34,
   "metadata": {},
   "outputs": [
    {
     "data": {
      "text/plain": [
       "['Store_str',\n",
       " 'quarter',\n",
       " 'Fuel_Price',\n",
       " 'weekofyear',\n",
       " 'Holiday_Flag',\n",
       " 'Temperature',\n",
       " 'CPI',\n",
       " 'Unemployment']"
      ]
     },
     "execution_count": 34,
     "metadata": {},
     "output_type": "execute_result"
    }
   ],
   "source": [
    "# Print basic variables\n",
    "basic_vars_ls"
   ]
  },
  {
   "cell_type": "code",
   "execution_count": 35,
   "metadata": {},
   "outputs": [
    {
     "data": {
      "text/plain": [
       "['quarter_str',\n",
       " 'Fuel_Price',\n",
       " 'Temperature_group',\n",
       " 'Store_group_CPI',\n",
       " 'Store_group_unemp',\n",
       " 'weekofyear_holiday']"
      ]
     },
     "execution_count": 35,
     "metadata": {},
     "output_type": "execute_result"
    }
   ],
   "source": [
    "# Engineered variables\n",
    "eng_vars_ls"
   ]
  },
  {
   "cell_type": "markdown",
   "metadata": {},
   "source": [
    "### Processing pipelines"
   ]
  },
  {
   "cell_type": "code",
   "execution_count": 36,
   "metadata": {},
   "outputs": [],
   "source": [
    "# Pipelines for missing value imputations / scaling and one hot encoding\n",
    "from src.features.build_features import *"
   ]
  },
  {
   "cell_type": "code",
   "execution_count": 37,
   "metadata": {},
   "outputs": [],
   "source": [
    "# Create pre-processor objects\n",
    "\n",
    "basic_preprocessor = ColumnTransformer(\n",
    "    transformers=[\n",
    "        ('num', basic_num_transformer, basic_num_feats),\n",
    "        ('cat', cat_transformer, cat_feat),\n",
    "        ('freqcat', cpi_transformer,cpi_feat )\n",
    "    ])\n",
    "\n",
    "\n",
    "eng_preprocessor = ColumnTransformer(\n",
    "    transformers=[\n",
    "        ('num', basic_num_transformer, eng_num_feats),\n",
    "        ('cat', eng_cat_transformer, eng_cat_feats),\n",
    "        ('rand', eng_rand_transformer, eng_rand_feats),\n",
    "    ])"
   ]
  },
  {
   "cell_type": "markdown",
   "metadata": {},
   "source": [
    "## 3. Train model: Linear regressor"
   ]
  },
  {
   "cell_type": "code",
   "execution_count": 38,
   "metadata": {},
   "outputs": [],
   "source": [
    "# Define full pipeline with pre-processing and linear regressor\n",
    "basic_ref_pipeline = Pipeline([\n",
    "        ('preprocessing', basic_preprocessor),\n",
    "        ('lin_reg', LinearRegression())\n",
    "    ])\n",
    "\n",
    "eng_ref_pipeline = Pipeline([\n",
    "        ('preprocessing', eng_preprocessor),\n",
    "        ('lin_reg', LinearRegression())\n",
    "    ])"
   ]
  },
  {
   "cell_type": "code",
   "execution_count": 39,
   "metadata": {},
   "outputs": [],
   "source": [
    "# Preprocess data and fit models\n",
    "basic_ref_pipeline.fit(X_basic_train, Y_train)\n",
    "eng_ref_pipeline.fit(X_eng_train, Y_train)\n",
    "\n",
    "# Prediction on train \n",
    "y_basic_pred_train = basic_ref_pipeline.predict(X_basic_train)\n",
    "y_eng_pred_train = eng_ref_pipeline.predict(X_eng_train)\n",
    "\n",
    "# Prediction on test set\n",
    "y_basic_pred_test = basic_ref_pipeline.predict(X_basic_test)\n",
    "y_eng_pred_test = eng_ref_pipeline.predict(X_eng_test)"
   ]
  },
  {
   "cell_type": "markdown",
   "metadata": {},
   "source": [
    "### Model performance: R^2"
   ]
  },
  {
   "cell_type": "code",
   "execution_count": 40,
   "metadata": {},
   "outputs": [
    {
     "name": "stdout",
     "output_type": "stream",
     "text": [
      "R2 score on training set (basic) :  0.9721495512292556\n",
      "R2 score on test set (basic):  0.9277245415698245\n"
     ]
    }
   ],
   "source": [
    "# Compare R^2 scores\n",
    "print(\"R2 score on training set (basic) : \", r2_score(Y_train, y_basic_pred_train))\n",
    "print(\"R2 score on test set (basic): \", r2_score(Y_test, y_basic_pred_test))"
   ]
  },
  {
   "cell_type": "code",
   "execution_count": 41,
   "metadata": {},
   "outputs": [
    {
     "name": "stdout",
     "output_type": "stream",
     "text": [
      "R2 score on training set (engineered) :  0.7773985675148699\n",
      "R2 score on test set (engineered):  0.5285512874810852\n"
     ]
    }
   ],
   "source": [
    "print(\"R2 score on training set (engineered) : \", r2_score(Y_train, y_eng_pred_train))\n",
    "print(\"R2 score on test set (engineered): \", r2_score(Y_test, y_eng_pred_test))"
   ]
  },
  {
   "cell_type": "markdown",
   "metadata": {},
   "source": [
    "## 4. Feature importance  \n",
    "\n",
    "Carry out F-statistic test, to define which are the most important features contributing to prediction"
   ]
  },
  {
   "cell_type": "code",
   "execution_count": 42,
   "metadata": {},
   "outputs": [],
   "source": [
    "# Preprocess Xtrain \n",
    "X_basic_train_t = basic_preprocessor.fit_transform(X_basic_train)\n",
    "X_eng_train_t = eng_preprocessor.fit_transform(X_eng_train)\n",
    "\n",
    "# Linear regression F-statistic\n",
    "feat_basic_importance = f_regression(X_basic_train_t, np.array(Y_train))\n",
    "feat_eng_importance = f_regression(X_eng_train_t, np.array(Y_train))\n"
   ]
  },
  {
   "cell_type": "markdown",
   "metadata": {},
   "source": [
    "### Basic features"
   ]
  },
  {
   "cell_type": "code",
   "execution_count": 43,
   "metadata": {},
   "outputs": [
    {
     "data": {
      "text/plain": [
       "[[2, 3, 5, 7], [0, 1, 4], [6]]"
      ]
     },
     "execution_count": 43,
     "metadata": {},
     "output_type": "execute_result"
    }
   ],
   "source": [
    "basic_preprocessor._columns"
   ]
  },
  {
   "cell_type": "code",
   "execution_count": 44,
   "metadata": {},
   "outputs": [
    {
     "data": {
      "text/plain": [
       "['Fuel_Price',\n",
       " 'weekofyear',\n",
       " 'Temperature',\n",
       " 'Unemployment',\n",
       " 'Store_str',\n",
       " 'quarter',\n",
       " 'Holiday_Flag',\n",
       " 'CPI']"
      ]
     },
     "execution_count": 44,
     "metadata": {},
     "output_type": "execute_result"
    }
   ],
   "source": [
    "# Features used in processor: ordered in entry of input to processor\n",
    "basic_preprocessor_cols_ls = [val for sublist in basic_preprocessor._columns for val in sublist]\n",
    "[basic_vars_ls[i] for i in basic_preprocessor_cols_ls]"
   ]
  },
  {
   "cell_type": "code",
   "execution_count": 45,
   "metadata": {},
   "outputs": [
    {
     "name": "stdout",
     "output_type": "stream",
     "text": [
      "Basic preprocessor: {'num': slice(0, 4, None), 'cat': slice(4, 26, None), 'freqcat': slice(26, 27, None), 'remainder': slice(0, 0, None)}\n"
     ]
    }
   ],
   "source": [
    "# Get slices for each feature\n",
    "print('Basic preprocessor:', basic_preprocessor.output_indices_)\n",
    "\n",
    "# Create repeated feature names based on slices\n",
    "basic_feats_ls = (['num_fuelprice_week_temp_unemp']* 4) + (['cat_store_quarter_hol']* 22) + (['rand_cpi']* 1)"
   ]
  },
  {
   "cell_type": "code",
   "execution_count": 46,
   "metadata": {},
   "outputs": [
    {
     "data": {
      "text/html": [
       "<div>\n",
       "<style scoped>\n",
       "    .dataframe tbody tr th:only-of-type {\n",
       "        vertical-align: middle;\n",
       "    }\n",
       "\n",
       "    .dataframe tbody tr th {\n",
       "        vertical-align: top;\n",
       "    }\n",
       "\n",
       "    .dataframe thead th {\n",
       "        text-align: right;\n",
       "    }\n",
       "</style>\n",
       "<table border=\"1\" class=\"dataframe\">\n",
       "  <thead>\n",
       "    <tr style=\"text-align: right;\">\n",
       "      <th></th>\n",
       "      <th>feature</th>\n",
       "      <th>f-score</th>\n",
       "      <th>p-value</th>\n",
       "    </tr>\n",
       "  </thead>\n",
       "  <tbody>\n",
       "    <tr>\n",
       "      <th>7</th>\n",
       "      <td>cat_store_quarter_hol</td>\n",
       "      <td>16.725497</td>\n",
       "      <td>0.000086</td>\n",
       "    </tr>\n",
       "    <tr>\n",
       "      <th>5</th>\n",
       "      <td>cat_store_quarter_hol</td>\n",
       "      <td>15.963695</td>\n",
       "      <td>0.000122</td>\n",
       "    </tr>\n",
       "    <tr>\n",
       "      <th>6</th>\n",
       "      <td>cat_store_quarter_hol</td>\n",
       "      <td>12.425462</td>\n",
       "      <td>0.000636</td>\n",
       "    </tr>\n",
       "    <tr>\n",
       "      <th>26</th>\n",
       "      <td>rand_cpi</td>\n",
       "      <td>11.997708</td>\n",
       "      <td>0.000780</td>\n",
       "    </tr>\n",
       "    <tr>\n",
       "      <th>14</th>\n",
       "      <td>cat_store_quarter_hol</td>\n",
       "      <td>11.270007</td>\n",
       "      <td>0.001108</td>\n",
       "    </tr>\n",
       "    <tr>\n",
       "      <th>15</th>\n",
       "      <td>cat_store_quarter_hol</td>\n",
       "      <td>10.735497</td>\n",
       "      <td>0.001437</td>\n",
       "    </tr>\n",
       "    <tr>\n",
       "      <th>9</th>\n",
       "      <td>cat_store_quarter_hol</td>\n",
       "      <td>10.735495</td>\n",
       "      <td>0.001437</td>\n",
       "    </tr>\n",
       "    <tr>\n",
       "      <th>4</th>\n",
       "      <td>cat_store_quarter_hol</td>\n",
       "      <td>7.256979</td>\n",
       "      <td>0.008259</td>\n",
       "    </tr>\n",
       "    <tr>\n",
       "      <th>17</th>\n",
       "      <td>cat_store_quarter_hol</td>\n",
       "      <td>6.027657</td>\n",
       "      <td>0.015775</td>\n",
       "    </tr>\n",
       "    <tr>\n",
       "      <th>21</th>\n",
       "      <td>cat_store_quarter_hol</td>\n",
       "      <td>5.557957</td>\n",
       "      <td>0.020305</td>\n",
       "    </tr>\n",
       "    <tr>\n",
       "      <th>11</th>\n",
       "      <td>cat_store_quarter_hol</td>\n",
       "      <td>4.518504</td>\n",
       "      <td>0.035944</td>\n",
       "    </tr>\n",
       "    <tr>\n",
       "      <th>16</th>\n",
       "      <td>cat_store_quarter_hol</td>\n",
       "      <td>4.266689</td>\n",
       "      <td>0.041402</td>\n",
       "    </tr>\n",
       "    <tr>\n",
       "      <th>2</th>\n",
       "      <td>num_fuelprice_week_temp_unemp</td>\n",
       "      <td>2.544155</td>\n",
       "      <td>0.113797</td>\n",
       "    </tr>\n",
       "    <tr>\n",
       "      <th>3</th>\n",
       "      <td>num_fuelprice_week_temp_unemp</td>\n",
       "      <td>2.411825</td>\n",
       "      <td>0.123519</td>\n",
       "    </tr>\n",
       "    <tr>\n",
       "      <th>12</th>\n",
       "      <td>cat_store_quarter_hol</td>\n",
       "      <td>2.299480</td>\n",
       "      <td>0.132510</td>\n",
       "    </tr>\n",
       "    <tr>\n",
       "      <th>18</th>\n",
       "      <td>cat_store_quarter_hol</td>\n",
       "      <td>2.123266</td>\n",
       "      <td>0.148149</td>\n",
       "    </tr>\n",
       "    <tr>\n",
       "      <th>10</th>\n",
       "      <td>cat_store_quarter_hol</td>\n",
       "      <td>1.467944</td>\n",
       "      <td>0.228470</td>\n",
       "    </tr>\n",
       "    <tr>\n",
       "      <th>8</th>\n",
       "      <td>cat_store_quarter_hol</td>\n",
       "      <td>0.950700</td>\n",
       "      <td>0.331848</td>\n",
       "    </tr>\n",
       "    <tr>\n",
       "      <th>22</th>\n",
       "      <td>cat_store_quarter_hol</td>\n",
       "      <td>0.947619</td>\n",
       "      <td>0.332629</td>\n",
       "    </tr>\n",
       "    <tr>\n",
       "      <th>1</th>\n",
       "      <td>num_fuelprice_week_temp_unemp</td>\n",
       "      <td>0.880317</td>\n",
       "      <td>0.350331</td>\n",
       "    </tr>\n",
       "    <tr>\n",
       "      <th>13</th>\n",
       "      <td>cat_store_quarter_hol</td>\n",
       "      <td>0.627745</td>\n",
       "      <td>0.430023</td>\n",
       "    </tr>\n",
       "    <tr>\n",
       "      <th>23</th>\n",
       "      <td>cat_store_quarter_hol</td>\n",
       "      <td>0.432360</td>\n",
       "      <td>0.512315</td>\n",
       "    </tr>\n",
       "    <tr>\n",
       "      <th>0</th>\n",
       "      <td>num_fuelprice_week_temp_unemp</td>\n",
       "      <td>0.201955</td>\n",
       "      <td>0.654101</td>\n",
       "    </tr>\n",
       "    <tr>\n",
       "      <th>20</th>\n",
       "      <td>cat_store_quarter_hol</td>\n",
       "      <td>0.187298</td>\n",
       "      <td>0.666088</td>\n",
       "    </tr>\n",
       "    <tr>\n",
       "      <th>19</th>\n",
       "      <td>cat_store_quarter_hol</td>\n",
       "      <td>0.161050</td>\n",
       "      <td>0.689031</td>\n",
       "    </tr>\n",
       "    <tr>\n",
       "      <th>24</th>\n",
       "      <td>cat_store_quarter_hol</td>\n",
       "      <td>0.077827</td>\n",
       "      <td>0.780829</td>\n",
       "    </tr>\n",
       "    <tr>\n",
       "      <th>25</th>\n",
       "      <td>cat_store_quarter_hol</td>\n",
       "      <td>0.052079</td>\n",
       "      <td>0.819941</td>\n",
       "    </tr>\n",
       "  </tbody>\n",
       "</table>\n",
       "</div>"
      ],
      "text/plain": [
       "                          feature    f-score   p-value\n",
       "7           cat_store_quarter_hol  16.725497  0.000086\n",
       "5           cat_store_quarter_hol  15.963695  0.000122\n",
       "6           cat_store_quarter_hol  12.425462  0.000636\n",
       "26                       rand_cpi  11.997708  0.000780\n",
       "14          cat_store_quarter_hol  11.270007  0.001108\n",
       "15          cat_store_quarter_hol  10.735497  0.001437\n",
       "9           cat_store_quarter_hol  10.735495  0.001437\n",
       "4           cat_store_quarter_hol   7.256979  0.008259\n",
       "17          cat_store_quarter_hol   6.027657  0.015775\n",
       "21          cat_store_quarter_hol   5.557957  0.020305\n",
       "11          cat_store_quarter_hol   4.518504  0.035944\n",
       "16          cat_store_quarter_hol   4.266689  0.041402\n",
       "2   num_fuelprice_week_temp_unemp   2.544155  0.113797\n",
       "3   num_fuelprice_week_temp_unemp   2.411825  0.123519\n",
       "12          cat_store_quarter_hol   2.299480  0.132510\n",
       "18          cat_store_quarter_hol   2.123266  0.148149\n",
       "10          cat_store_quarter_hol   1.467944  0.228470\n",
       "8           cat_store_quarter_hol   0.950700  0.331848\n",
       "22          cat_store_quarter_hol   0.947619  0.332629\n",
       "1   num_fuelprice_week_temp_unemp   0.880317  0.350331\n",
       "13          cat_store_quarter_hol   0.627745  0.430023\n",
       "23          cat_store_quarter_hol   0.432360  0.512315\n",
       "0   num_fuelprice_week_temp_unemp   0.201955  0.654101\n",
       "20          cat_store_quarter_hol   0.187298  0.666088\n",
       "19          cat_store_quarter_hol   0.161050  0.689031\n",
       "24          cat_store_quarter_hol   0.077827  0.780829\n",
       "25          cat_store_quarter_hol   0.052079  0.819941"
      ]
     },
     "execution_count": 46,
     "metadata": {},
     "output_type": "execute_result"
    }
   ],
   "source": [
    "# Dataframes of feature importance\n",
    "\n",
    "# Create DataFrame with feature importance\n",
    "feat_basic_ranking = pd.DataFrame(columns=basic_feats_ls, data=feat_basic_importance, index=[\"f-score\", \"p-value\"])\n",
    "# Reshape DataFrame and sort by f-score\n",
    "feat_basic_ranking = feat_basic_ranking.transpose().reset_index().rename(columns = {'index': 'feature'})\n",
    "# Create column with feature names\n",
    "feat_basic_ranking = feat_basic_ranking.sort_values([\"f-score\", \"p-value\"], ascending=False)\n",
    "feat_basic_ranking\n"
   ]
  },
  {
   "cell_type": "code",
   "execution_count": 47,
   "metadata": {},
   "outputs": [
    {
     "data": {
      "text/html": [
       "<div>\n",
       "<style scoped>\n",
       "    .dataframe tbody tr th:only-of-type {\n",
       "        vertical-align: middle;\n",
       "    }\n",
       "\n",
       "    .dataframe tbody tr th {\n",
       "        vertical-align: top;\n",
       "    }\n",
       "\n",
       "    .dataframe thead th {\n",
       "        text-align: right;\n",
       "    }\n",
       "</style>\n",
       "<table border=\"1\" class=\"dataframe\">\n",
       "  <thead>\n",
       "    <tr style=\"text-align: right;\">\n",
       "      <th></th>\n",
       "      <th>Feature</th>\n",
       "      <th>reg_coefficient</th>\n",
       "    </tr>\n",
       "  </thead>\n",
       "  <tbody>\n",
       "    <tr>\n",
       "      <th>7</th>\n",
       "      <td>Unemployment</td>\n",
       "      <td>1.382658e+06</td>\n",
       "    </tr>\n",
       "    <tr>\n",
       "      <th>5</th>\n",
       "      <td>Temperature</td>\n",
       "      <td>1.267858e+06</td>\n",
       "    </tr>\n",
       "    <tr>\n",
       "      <th>4</th>\n",
       "      <td>Holiday_Flag</td>\n",
       "      <td>4.163710e+05</td>\n",
       "    </tr>\n",
       "    <tr>\n",
       "      <th>6</th>\n",
       "      <td>CPI</td>\n",
       "      <td>3.380013e+05</td>\n",
       "    </tr>\n",
       "    <tr>\n",
       "      <th>1</th>\n",
       "      <td>quarter</td>\n",
       "      <td>1.502464e+05</td>\n",
       "    </tr>\n",
       "    <tr>\n",
       "      <th>3</th>\n",
       "      <td>weekofyear</td>\n",
       "      <td>1.041306e+05</td>\n",
       "    </tr>\n",
       "    <tr>\n",
       "      <th>0</th>\n",
       "      <td>Store_str</td>\n",
       "      <td>5.526783e+04</td>\n",
       "    </tr>\n",
       "    <tr>\n",
       "      <th>2</th>\n",
       "      <td>Fuel_Price</td>\n",
       "      <td>3.266644e+04</td>\n",
       "    </tr>\n",
       "  </tbody>\n",
       "</table>\n",
       "</div>"
      ],
      "text/plain": [
       "        Feature  reg_coefficient\n",
       "7  Unemployment     1.382658e+06\n",
       "5   Temperature     1.267858e+06\n",
       "4  Holiday_Flag     4.163710e+05\n",
       "6           CPI     3.380013e+05\n",
       "1       quarter     1.502464e+05\n",
       "3    weekofyear     1.041306e+05\n",
       "0     Store_str     5.526783e+04\n",
       "2    Fuel_Price     3.266644e+04"
      ]
     },
     "execution_count": 47,
     "metadata": {},
     "output_type": "execute_result"
    }
   ],
   "source": [
    "# Compare to coefficients from regressor\n",
    "regressor = LinearRegression()\n",
    "regressor.fit(X_basic_train_t, Y_train)\n",
    "\n",
    "regcoefs = list(zip(basic_vars_ls, abs(regressor.coef_)))\n",
    "pd.DataFrame(regcoefs, columns =['Feature', 'reg_coefficient']).sort_values('reg_coefficient', ascending=False)"
   ]
  },
  {
   "cell_type": "markdown",
   "metadata": {},
   "source": [
    "### Engineered features"
   ]
  },
  {
   "cell_type": "code",
   "execution_count": 48,
   "metadata": {},
   "outputs": [
    {
     "data": {
      "text/plain": [
       "[[1], [2, 3, 4], [0, 5]]"
      ]
     },
     "execution_count": 48,
     "metadata": {},
     "output_type": "execute_result"
    }
   ],
   "source": [
    "eng_preprocessor._columns "
   ]
  },
  {
   "cell_type": "code",
   "execution_count": 49,
   "metadata": {},
   "outputs": [
    {
     "data": {
      "text/plain": [
       "['Fuel_Price',\n",
       " 'Temperature_group',\n",
       " 'Store_group_CPI',\n",
       " 'Store_group_unemp',\n",
       " 'quarter_str',\n",
       " 'weekofyear_holiday']"
      ]
     },
     "execution_count": 49,
     "metadata": {},
     "output_type": "execute_result"
    }
   ],
   "source": [
    "# Features used in processor: ordered in entry of input to processor\n",
    "eng_preprocessor_cols_ls = [val for sublist in eng_preprocessor._columns for val in sublist]\n",
    "[eng_vars_ls[i] for i in eng_preprocessor_cols_ls]"
   ]
  },
  {
   "cell_type": "code",
   "execution_count": 50,
   "metadata": {},
   "outputs": [
    {
     "name": "stdout",
     "output_type": "stream",
     "text": [
      "Eng preprocessor: {'num': slice(0, 1, None), 'cat': slice(1, 9, None), 'rand': slice(9, 12, None), 'remainder': slice(0, 0, None)}\n"
     ]
    }
   ],
   "source": [
    "# Get slices for each feature\n",
    "print('Eng preprocessor:', eng_preprocessor.output_indices_)\n",
    "\n",
    "feats_eng_ls = (['num_fuelprice']* 1) + (['cat_temp_store_cpi_unemp']* 8) + (['rand_quarter_weekhol']* 3) "
   ]
  },
  {
   "cell_type": "code",
   "execution_count": 51,
   "metadata": {},
   "outputs": [
    {
     "data": {
      "text/html": [
       "<div>\n",
       "<style scoped>\n",
       "    .dataframe tbody tr th:only-of-type {\n",
       "        vertical-align: middle;\n",
       "    }\n",
       "\n",
       "    .dataframe tbody tr th {\n",
       "        vertical-align: top;\n",
       "    }\n",
       "\n",
       "    .dataframe thead th {\n",
       "        text-align: right;\n",
       "    }\n",
       "</style>\n",
       "<table border=\"1\" class=\"dataframe\">\n",
       "  <thead>\n",
       "    <tr style=\"text-align: right;\">\n",
       "      <th></th>\n",
       "      <th>feature</th>\n",
       "      <th>f-score</th>\n",
       "      <th>p-value</th>\n",
       "    </tr>\n",
       "  </thead>\n",
       "  <tbody>\n",
       "    <tr>\n",
       "      <th>8</th>\n",
       "      <td>cat_temp_store_cpi_unemp</td>\n",
       "      <td>67.484818</td>\n",
       "      <td>6.972269e-13</td>\n",
       "    </tr>\n",
       "    <tr>\n",
       "      <th>4</th>\n",
       "      <td>cat_temp_store_cpi_unemp</td>\n",
       "      <td>66.166872</td>\n",
       "      <td>1.044125e-12</td>\n",
       "    </tr>\n",
       "    <tr>\n",
       "      <th>3</th>\n",
       "      <td>cat_temp_store_cpi_unemp</td>\n",
       "      <td>28.352257</td>\n",
       "      <td>6.046165e-07</td>\n",
       "    </tr>\n",
       "    <tr>\n",
       "      <th>6</th>\n",
       "      <td>cat_temp_store_cpi_unemp</td>\n",
       "      <td>26.179941</td>\n",
       "      <td>1.466537e-06</td>\n",
       "    </tr>\n",
       "    <tr>\n",
       "      <th>7</th>\n",
       "      <td>cat_temp_store_cpi_unemp</td>\n",
       "      <td>15.451197</td>\n",
       "      <td>1.544155e-04</td>\n",
       "    </tr>\n",
       "    <tr>\n",
       "      <th>1</th>\n",
       "      <td>cat_temp_store_cpi_unemp</td>\n",
       "      <td>5.664253</td>\n",
       "      <td>1.917225e-02</td>\n",
       "    </tr>\n",
       "    <tr>\n",
       "      <th>5</th>\n",
       "      <td>cat_temp_store_cpi_unemp</td>\n",
       "      <td>5.662016</td>\n",
       "      <td>1.919539e-02</td>\n",
       "    </tr>\n",
       "    <tr>\n",
       "      <th>9</th>\n",
       "      <td>rand_quarter_weekhol</td>\n",
       "      <td>0.810601</td>\n",
       "      <td>3.700633e-01</td>\n",
       "    </tr>\n",
       "    <tr>\n",
       "      <th>2</th>\n",
       "      <td>cat_temp_store_cpi_unemp</td>\n",
       "      <td>0.671389</td>\n",
       "      <td>4.144784e-01</td>\n",
       "    </tr>\n",
       "    <tr>\n",
       "      <th>0</th>\n",
       "      <td>num_fuelprice</td>\n",
       "      <td>0.201955</td>\n",
       "      <td>6.541005e-01</td>\n",
       "    </tr>\n",
       "    <tr>\n",
       "      <th>10</th>\n",
       "      <td>rand_quarter_weekhol</td>\n",
       "      <td>0.167022</td>\n",
       "      <td>6.836292e-01</td>\n",
       "    </tr>\n",
       "    <tr>\n",
       "      <th>11</th>\n",
       "      <td>rand_quarter_weekhol</td>\n",
       "      <td>0.077827</td>\n",
       "      <td>7.808290e-01</td>\n",
       "    </tr>\n",
       "  </tbody>\n",
       "</table>\n",
       "</div>"
      ],
      "text/plain": [
       "                     feature    f-score       p-value\n",
       "8   cat_temp_store_cpi_unemp  67.484818  6.972269e-13\n",
       "4   cat_temp_store_cpi_unemp  66.166872  1.044125e-12\n",
       "3   cat_temp_store_cpi_unemp  28.352257  6.046165e-07\n",
       "6   cat_temp_store_cpi_unemp  26.179941  1.466537e-06\n",
       "7   cat_temp_store_cpi_unemp  15.451197  1.544155e-04\n",
       "1   cat_temp_store_cpi_unemp   5.664253  1.917225e-02\n",
       "5   cat_temp_store_cpi_unemp   5.662016  1.919539e-02\n",
       "9       rand_quarter_weekhol   0.810601  3.700633e-01\n",
       "2   cat_temp_store_cpi_unemp   0.671389  4.144784e-01\n",
       "0              num_fuelprice   0.201955  6.541005e-01\n",
       "10      rand_quarter_weekhol   0.167022  6.836292e-01\n",
       "11      rand_quarter_weekhol   0.077827  7.808290e-01"
      ]
     },
     "execution_count": 51,
     "metadata": {},
     "output_type": "execute_result"
    }
   ],
   "source": [
    "feat_eng_ranking = pd.DataFrame(columns = feats_eng_ls, data=feat_eng_importance, index=[\"f-score\", \"p-value\"])\n",
    "# Reshape DataFrame and sort by f-score\n",
    "feat_eng_ranking= feat_eng_ranking.transpose().reset_index().rename(columns = {'index': 'feature'})\n",
    "# Create column with feature names\n",
    "feat_eng_ranking = feat_eng_ranking.sort_values([\"f-score\", \"p-value\"], ascending=False)\n",
    "feat_eng_ranking"
   ]
  },
  {
   "cell_type": "code",
   "execution_count": 52,
   "metadata": {},
   "outputs": [
    {
     "data": {
      "text/html": [
       "<div>\n",
       "<style scoped>\n",
       "    .dataframe tbody tr th:only-of-type {\n",
       "        vertical-align: middle;\n",
       "    }\n",
       "\n",
       "    .dataframe tbody tr th {\n",
       "        vertical-align: top;\n",
       "    }\n",
       "\n",
       "    .dataframe thead th {\n",
       "        text-align: right;\n",
       "    }\n",
       "</style>\n",
       "<table border=\"1\" class=\"dataframe\">\n",
       "  <thead>\n",
       "    <tr style=\"text-align: right;\">\n",
       "      <th></th>\n",
       "      <th>Feature</th>\n",
       "      <th>reg_coefficient</th>\n",
       "    </tr>\n",
       "  </thead>\n",
       "  <tbody>\n",
       "    <tr>\n",
       "      <th>4</th>\n",
       "      <td>Store_group_unemp</td>\n",
       "      <td>396921.825819</td>\n",
       "    </tr>\n",
       "    <tr>\n",
       "      <th>1</th>\n",
       "      <td>Fuel_Price</td>\n",
       "      <td>320307.850386</td>\n",
       "    </tr>\n",
       "    <tr>\n",
       "      <th>5</th>\n",
       "      <td>weekofyear_holiday</td>\n",
       "      <td>228792.931694</td>\n",
       "    </tr>\n",
       "    <tr>\n",
       "      <th>3</th>\n",
       "      <td>Store_group_CPI</td>\n",
       "      <td>119892.721675</td>\n",
       "    </tr>\n",
       "    <tr>\n",
       "      <th>0</th>\n",
       "      <td>quarter_str</td>\n",
       "      <td>58243.714697</td>\n",
       "    </tr>\n",
       "    <tr>\n",
       "      <th>2</th>\n",
       "      <td>Temperature_group</td>\n",
       "      <td>9752.773370</td>\n",
       "    </tr>\n",
       "  </tbody>\n",
       "</table>\n",
       "</div>"
      ],
      "text/plain": [
       "              Feature  reg_coefficient\n",
       "4   Store_group_unemp    396921.825819\n",
       "1          Fuel_Price    320307.850386\n",
       "5  weekofyear_holiday    228792.931694\n",
       "3     Store_group_CPI    119892.721675\n",
       "0         quarter_str     58243.714697\n",
       "2   Temperature_group      9752.773370"
      ]
     },
     "execution_count": 52,
     "metadata": {},
     "output_type": "execute_result"
    }
   ],
   "source": [
    "# Compare to coefficients from regressor\n",
    "regressor = LinearRegression()\n",
    "regressor.fit(X_eng_train_t, Y_train)\n",
    "\n",
    "regcoefs = list(zip(eng_vars_ls, abs(regressor.coef_)))\n",
    "pd.DataFrame(regcoefs, columns =['Feature', 'reg_coefficient']).sort_values('reg_coefficient', ascending=False)"
   ]
  },
  {
   "cell_type": "markdown",
   "metadata": {},
   "source": [
    "## 5. Export processed trained data"
   ]
  },
  {
   "cell_type": "code",
   "execution_count": 57,
   "metadata": {},
   "outputs": [
    {
     "data": {
      "text/plain": [
       "<104x27 sparse matrix of type '<class 'numpy.float64'>'\n",
       "\twith 705 stored elements in Compressed Sparse Row format>"
      ]
     },
     "execution_count": 57,
     "metadata": {},
     "output_type": "execute_result"
    }
   ],
   "source": [
    "X_basic_train_t"
   ]
  },
  {
   "cell_type": "code",
   "execution_count": 61,
   "metadata": {},
   "outputs": [],
   "source": [
    "# Export processed X_train/X_test and y_train/y_test for further evaluation of other models\n",
    "scipy.sparse.save_npz('data/processed/Walmart_Store_sales-expvar-train-basic.npz', X_basic_train_t)\n",
    "\n",
    "X_basic_test_t = basic_preprocessor.transform(X_basic_test)\n",
    "scipy.sparse.save_npz('data/processed/Walmart_Store_sales-expvar-test-basic.npz', X_basic_test_t)\n",
    "\n",
    "\n",
    "np.savetxt('data/processed/Walmart_Store_sales-target-train-basic.csv', Y_train, delimiter=\",\")\n",
    "np.savetxt('data/processed/Walmart_Store_sales-target-test-basic.csv', Y_test, delimiter=\",\")\n"
   ]
  },
  {
   "cell_type": "markdown",
   "metadata": {},
   "source": [
    "## 6. Conclusions  \n",
    "\n",
    "**Basic explanatory variables regressor**  \n",
    "\n",
    " \n",
    " - The linear regressor trained with the basic features *Fuel_Price*, *weekofyear*, *Temperature*, *Unemployment*, *Store_str*, *quarter*, *Holiday_Flag* and *CPI* had a good performance on train set (R<sup>2</sup> = 0.97) but was overfitting (R<sup>2</sup> on test set = 0.93)  \n",
    "\n",
    " - The most important features behid the basic regressor prediction were the store ID and the CPI index  \n",
    "\n",
    "<br>\n",
    "\n",
    "**Engineered explanatory variables regressor**   \n",
    " - The linear regressor trained with the engineered features *Fuel_Price*, *Temperature_group*, *Store_group_CPI*, *Store_group_unemp*, *quarter_str*, *weekofyear_holiday* did not perform as well (R<sup>2</sup> on train set = 0.78 vs R<sup>2</sup> on test set = 0.53 - almost same as by chance)  \n",
    " \n",
    " - Such bad performance could be associated to the fact that the weights associated to temperature, CPI, unemployment rate were lost through categorization. A possible way of evaluating this would be to categorize through ordinal transformation  \n",
    " "
   ]
  }
 ],
 "metadata": {
  "interpreter": {
   "hash": "ac0fa52fb04ce33a0b1a6fe7dce9738c292bebc8dc4d196073405f436c00a9a4"
  },
  "kernelspec": {
   "display_name": "Python 3.9.7 ('jedha_env': venv)",
   "language": "python",
   "name": "python3"
  },
  "language_info": {
   "codemirror_mode": {
    "name": "ipython",
    "version": 3
   },
   "file_extension": ".py",
   "mimetype": "text/x-python",
   "name": "python",
   "nbconvert_exporter": "python",
   "pygments_lexer": "ipython3",
   "version": "3.9.7"
  },
  "orig_nbformat": 4
 },
 "nbformat": 4,
 "nbformat_minor": 2
}
