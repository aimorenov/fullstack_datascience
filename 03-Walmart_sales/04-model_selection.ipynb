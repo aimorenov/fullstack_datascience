{
 "cells": [
  {
   "cell_type": "markdown",
   "metadata": {},
   "source": [
    "# Walmart Sales: model regularization, selection and validation\n",
    "\n",
    "In this notebook I selected the best regressor to predict weekly sales from the Wallmart Sales data[(Kaggle competition)](https://www.kaggle.com/competitions/walmart-sales-forecasting/overview).  \n",
    " \n",
    " In more detail, I:  \n",
    "- Validated a first linear regressor I trained on the data:  \n",
    "    - Evaluated **model performance** throught a **cross validation**  \n",
    "    - **Optimized** my linear **model** via **regularization** and **grid search** for hypeparameter tuning\n",
    "- Compared my linear model to another regressor: Random Forest Regressor\n"
   ]
  },
  {
   "cell_type": "markdown",
   "metadata": {},
   "source": [
    "## Table of Contents  \n",
    "1. Linear regressor: regularization\n",
    "2. Random Forest Regressor \n",
    "4. Crossvalidation of best model\n",
    "5. Conclusions"
   ]
  },
  {
   "cell_type": "markdown",
   "metadata": {},
   "source": [
    "## Import libraries"
   ]
  },
  {
   "cell_type": "code",
   "execution_count": 49,
   "metadata": {},
   "outputs": [],
   "source": [
    "import pandas as pd\n",
    "import numpy as np\n",
    "\n",
    "import scipy.sparse\n",
    "\n",
    "import seaborn as sns\n",
    "import matplotlib.pyplot as plt\n",
    "\n",
    "from sklearn.pipeline import Pipeline\n",
    "from sklearn.linear_model import LinearRegression, Ridge, Lasso\n",
    "from sklearn.ensemble import RandomForestRegressor\n",
    "from sklearn.model_selection import cross_val_score, GridSearchCV\n",
    "from sklearn.model_selection import RandomizedSearchCV\n",
    "from sklearn.metrics import r2_score\n",
    "\n",
    "from sklearn.model_selection import cross_val_score\n",
    "from sklearn.model_selection import cross_validate\n",
    "\n",
    "import joblib\n",
    "\n",
    "# Import my own functions\n",
    "from src.features.build_features import basic_preprocessor\n",
    "\n",
    "# Plotting config\n",
    "sns.set_theme(style=\"white\")"
   ]
  },
  {
   "cell_type": "markdown",
   "metadata": {},
   "source": [
    "## Import train and test datasets"
   ]
  },
  {
   "cell_type": "code",
   "execution_count": 19,
   "metadata": {},
   "outputs": [
    {
     "name": "stdout",
     "output_type": "stream",
     "text": [
      "Target variable length: 131\n"
     ]
    },
    {
     "data": {
      "text/plain": [
       "[1572117.54, 1807545.43, 1244390.03, 1644470.66, 1857533.7]"
      ]
     },
     "execution_count": 19,
     "metadata": {},
     "output_type": "execute_result"
    }
   ],
   "source": [
    "# Load unsplit target variable\n",
    "filename = 'data/interim/Walmart_Store_sales-targetvar.csv'\n",
    "with open(filename) as file:\n",
    "    Y = [float(line.rstrip()) for line in file]\n",
    "\n",
    "print('Target variable length:',len(Y))\n",
    "Y[0:5]"
   ]
  },
  {
   "cell_type": "code",
   "execution_count": 2,
   "metadata": {},
   "outputs": [
    {
     "name": "stdout",
     "output_type": "stream",
     "text": [
      "Target train length: 104\n",
      "Target test length: 27\n",
      "[2066541.86, 1539483.7, 1205307.5, 1256282.79, 301827.36]\n"
     ]
    }
   ],
   "source": [
    "# Load target variable : split into train and test\n",
    "filename = 'data/processed/Walmart_Store_sales-target-train-basic.csv'\n",
    "with open(filename) as file:\n",
    "    y_train = [float(line.rstrip()) for line in file]\n",
    "\n",
    "filename = 'data/processed/Walmart_Store_sales-target-test-basic.csv'\n",
    "with open(filename) as file:\n",
    "    y_test = [float(line.rstrip()) for line in file]\n",
    "\n",
    "print('Target train length:', len(y_train))\n",
    "print('Target test length:', len(y_test))\n",
    "print(y_train[:5])\n"
   ]
  },
  {
   "cell_type": "code",
   "execution_count": 17,
   "metadata": {},
   "outputs": [
    {
     "name": "stdout",
     "output_type": "stream",
     "text": [
      "Basic explanatory variables shape: (131, 8)\n",
      "Basic explanatory variables: ['Store_str', 'quarter', 'Fuel_Price', 'weekofyear', 'Holiday_Flag', 'Temperature', 'CPI', 'Unemployment']\n"
     ]
    },
    {
     "data": {
      "text/plain": [
       "array([[  6.        ,   1.        ,   3.045     ,   7.        ,\n",
       "                 nan,  15.33888889, 214.7775231 ,   6.858     ],\n",
       "       [ 13.        ,   1.        ,   3.435     ,  12.        ,\n",
       "          0.        ,   5.76666667, 128.6160645 ,   7.47      ],\n",
       "       [ 11.        ,          nan,          nan,          nan,\n",
       "          0.        ,  29.20555556, 214.5564968 ,   7.346     ]])"
      ]
     },
     "execution_count": 17,
     "metadata": {},
     "output_type": "execute_result"
    }
   ],
   "source": [
    "# Load unprocessed explanatory variables\n",
    "X_basic_df = pd.read_csv('data/interim/Walmart_Store_sales-expvar-basic.csv')\n",
    "X_basic_df.drop(['year'], axis=1, inplace=True)\n",
    "print('Basic explanatory variables shape:', X_basic_df.shape)\n",
    "\n",
    "basic_vars_ls = X_basic_df.columns.tolist()\n",
    "print('Basic explanatory variables:', basic_vars_ls)\n",
    "\n",
    "X_basic = X_basic_df.values\n",
    "\n",
    "X_basic[0:3,:]"
   ]
  },
  {
   "cell_type": "code",
   "execution_count": 4,
   "metadata": {},
   "outputs": [
    {
     "name": "stdout",
     "output_type": "stream",
     "text": [
      "X train shape: (104, 27)\n",
      "X test shape: (27, 27)\n",
      "  (0, 0)\t0.3080695702984372\n",
      "  (0, 1)\t0.11450362432338515\n",
      "  (0, 2)\t1.4631556723366952\n",
      "  (0, 3)\t-1.8421346343631164\n",
      "  (0, 6)\t1.0\n",
      "  (0, 23)\t1.0\n",
      "  (0, 26)\t-1.1494375279696578\n",
      "  (1, 0)\t-0.04811858638413535\n",
      "  (1, 1)\t1.5648828657529306\n",
      "  (1, 2)\t0.13891797016022916\n",
      "  (1, 3)\t0.5227467779469824\n",
      "  (1, 24)\t1.0\n",
      "  (1, 26)\t1.069566022312942\n",
      "  (2, 0)\t-1.1985399620048696\n",
      "  (2, 1)\t-0.07633574954892344\n",
      "  (2, 2)\t-2.286677677693888\n",
      "  (2, 3)\t1.9446556739174115\n",
      "  (2, 19)\t1.0\n",
      "  (2, 22)\t1.0\n",
      "  (2, 26)\t-1.0892881839506041\n",
      "  (3, 0)\t-0.937482803690934\n",
      "  (3, 1)\t-0.3435108729701555\n",
      "  (3, 2)\t0.546147738018435\n",
      "  (3, 3)\t0.08585036941714648\n",
      "  (3, 19)\t1.0\n",
      "  :\t:\n",
      "  (100, 2)\t0.926703066933964\n",
      "  (100, 3)\t-0.18927197310407765\n",
      "  (100, 5)\t1.0\n",
      "  (100, 24)\t1.0\n",
      "  (100, 26)\t-1.2071886908871303\n",
      "  (101, 0)\t1.529286107495832\n",
      "  (101, 1)\t-1.1068683684593899\n",
      "  (101, 2)\t-0.7401529843284452\n",
      "  (101, 3)\t0.6046981140171344\n",
      "  (101, 16)\t1.0\n",
      "  (101, 26)\t-0.9384671807959556\n",
      "  (102, 0)\t0.6576206805831986\n",
      "  (102, 1)\t0.267175123421232\n",
      "  (102, 2)\t1.3594217431151723\n",
      "  (102, 3)\t-1.8421346343631164\n",
      "  (102, 6)\t1.0\n",
      "  (102, 23)\t1.0\n",
      "  (102, 26)\t-1.148484408414772\n",
      "  (103, 0)\t-1.3312808899611082\n",
      "  (103, 1)\t1.488547116204007\n",
      "  (103, 2)\t-0.012829949158112672\n",
      "  (103, 3)\t0.8388447885032835\n",
      "  (103, 4)\t1.0\n",
      "  (103, 24)\t1.0\n",
      "  (103, 26)\t0.9062159378570781\n"
     ]
    }
   ],
   "source": [
    "# Load preprocessed explanatory variables(train and test split)\n",
    "X_train = scipy.sparse.load_npz('data/processed/Walmart_Store_sales-expvar-train-basic.npz')\n",
    "X_test = scipy.sparse.load_npz('data/processed/Walmart_Store_sales-expvar-test-basic.npz')\n",
    "\n",
    "print('X train shape:', X_train.shape)\n",
    "print('X test shape:', X_test.shape)\n",
    "print(X_train)"
   ]
  },
  {
   "cell_type": "markdown",
   "metadata": {},
   "source": [
    "## R2 score for simple linear regressor"
   ]
  },
  {
   "cell_type": "code",
   "execution_count": 5,
   "metadata": {},
   "outputs": [
    {
     "name": "stdout",
     "output_type": "stream",
     "text": [
      "R2 score on training set (linear regressor) :  0.9721495512292556\n",
      "R2 score on test set (linrear regressor) :  0.9277245415698245\n"
     ]
    }
   ],
   "source": [
    "regressor = LinearRegression()\n",
    "regressor.fit(X_train, y_train)\n",
    "print(\"R2 score on training set (linear regressor) : \", regressor.score(X_train, y_train))\n",
    "print(\"R2 score on test set (linrear regressor) : \", regressor.score(X_test, y_test))"
   ]
  },
  {
   "cell_type": "markdown",
   "metadata": {},
   "source": [
    "## 1. Linear regressor: regularization  \n",
    "\n",
    "Use Ridge and Lasso regularization to see if overfitting of model can be reduced  \n",
    "Carry out a gridsearch for each regressor to define best hyperparameters to use"
   ]
  },
  {
   "cell_type": "markdown",
   "metadata": {},
   "source": [
    "### Ridge: L2 regularization"
   ]
  },
  {
   "cell_type": "code",
   "execution_count": 6,
   "metadata": {},
   "outputs": [
    {
     "name": "stdout",
     "output_type": "stream",
     "text": [
      "Best hyperparameters for Ridge regressor:  {'alpha': 0.1, 'tol': 0.0001}\n",
      "Best R2 score :  0.935572917665486\n"
     ]
    }
   ],
   "source": [
    "# Perform Grid Search for best parameters for regressors\n",
    "regressor_ridge = Ridge()\n",
    "\n",
    "# Grid of values to be tested: (alpha ==0 is equivalent to ordinary least squares solved by a linear regressor; tol = precision of the solution - default 1e-03)\n",
    "params = {\n",
    "    'alpha': [0.0, 0.1, 0.5, 1.0, 1.5],\n",
    "    'tol': [1e-05, 1e-04, 1e-03]\n",
    "}\n",
    "gridsearch = GridSearchCV(regressor_ridge, param_grid = params, cv = 10)\n",
    "gridsearch.fit(X_train, y_train)\n",
    "\n",
    "print(\"Best hyperparameters for Ridge regressor: \", gridsearch.best_params_)\n",
    "print(\"Best R2 score : \", gridsearch.best_score_)"
   ]
  },
  {
   "cell_type": "code",
   "execution_count": 7,
   "metadata": {},
   "outputs": [],
   "source": [
    "# Predic target using Ridge with best parameter alpha\n",
    "y_train_pred = gridsearch.predict(X_train)\n",
    "y_test_pred = gridsearch.predict(X_test)"
   ]
  },
  {
   "cell_type": "code",
   "execution_count": 8,
   "metadata": {},
   "outputs": [
    {
     "name": "stdout",
     "output_type": "stream",
     "text": [
      "R2 score on training set (Ridge) :  0.9705136193716631\n",
      "R2 score on test set (Ridge) :  0.9369008051527893\n"
     ]
    }
   ],
   "source": [
    "# Print R^2 scores on train/test sets for the Ridge model with optimal value of the regularization strength\n",
    "print(\"R2 score on training set (Ridge) : \", r2_score(y_train, y_train_pred))\n",
    "print(\"R2 score on test set (Ridge) : \", r2_score(y_test, y_test_pred))\n"
   ]
  },
  {
   "cell_type": "markdown",
   "metadata": {},
   "source": [
    "### Lasso : L1 regularization"
   ]
  },
  {
   "cell_type": "code",
   "execution_count": 9,
   "metadata": {},
   "outputs": [
    {
     "name": "stdout",
     "output_type": "stream",
     "text": [
      "Best hyperparameters for Lasso regressor:  {'alpha': 1.5, 'tol': 1e-05}\n",
      "Best R2 score :  0.9394062102475413\n"
     ]
    }
   ],
   "source": [
    "# Perform Grid Search for best parameters for regressors\n",
    "regressor_lasso = Lasso()\n",
    "\n",
    "# Grid of values to be tested: alpha and tolerance\n",
    "# Since lasso is made for \n",
    "params = {\n",
    "    'alpha': [0.1, 0.5, 1.0, 1.5],\n",
    "    'tol': [1e-05, 1e-04, 1e-03]\n",
    "}\n",
    "gridsearch_lass = GridSearchCV(regressor_lasso, param_grid = params, cv = 5)\n",
    "gridsearch_lass.fit(X_train, y_train)\n",
    "\n",
    "print(\"Best hyperparameters for Lasso regressor: \", gridsearch_lass.best_params_)\n",
    "print(\"Best R2 score : \", gridsearch_lass.best_score_)"
   ]
  },
  {
   "cell_type": "code",
   "execution_count": 10,
   "metadata": {},
   "outputs": [
    {
     "name": "stdout",
     "output_type": "stream",
     "text": [
      "R2 score on training set (Lasso) :  0.9721495424877364\n",
      "R2 score on test set (Lasso) :  0.9277626222406021\n"
     ]
    }
   ],
   "source": [
    "# Predic target using Ridge with best parameter alpha\n",
    "y_train_pred = gridsearch_lass.predict(X_train)\n",
    "y_test_pred = gridsearch_lass.predict(X_test)\n",
    "\n",
    "# Print R^2 scores on train/test sets for the LAsso model with optimal hyperparameters\n",
    "print(\"R2 score on training set (Lasso) : \", r2_score(y_train, y_train_pred))\n",
    "print(\"R2 score on test set (Lasso) : \", r2_score(y_test, y_test_pred))"
   ]
  },
  {
   "cell_type": "markdown",
   "metadata": {},
   "source": [
    "## 2. Random Forest Regressor"
   ]
  },
  {
   "cell_type": "markdown",
   "metadata": {},
   "source": [
    "First use RandomizedSearch to narrow down the hyperparameters to use  \n",
    "Secondly use GridSearch to fine tune on search for hyperparameters  \n",
    "\n",
    " \n",
    " *Randomized search code based on Hyperparameter tuning publication by Will Koehrsen*"
   ]
  },
  {
   "cell_type": "markdown",
   "metadata": {},
   "source": [
    "### Randomized hyperparemeter search"
   ]
  },
  {
   "cell_type": "code",
   "execution_count": 11,
   "metadata": {},
   "outputs": [],
   "source": [
    "from sklearn.model_selection import RandomizedSearchCV\n",
    "\n",
    "# Number of trees in random forest\n",
    "n_estimators = [int(x) for x in np.linspace(start = 200, stop = 2000, num = 10)]\n",
    "# Number of features to consider at every split\n",
    "max_features = ['auto', 'sqrt']\n",
    "# Maximum number of levels in tree\n",
    "max_depth = [int(x) for x in np.linspace(10, 110, num = 11)]\n",
    "max_depth.append(None)\n",
    "# Minimum number of samples required to split a node\n",
    "min_samples_split = [2, 5, 10]\n",
    "# Minimum number of samples required at each leaf node\n",
    "min_samples_leaf = [1, 2, 4]\n",
    "# Method of selecting samples for training each tree\n",
    "bootstrap = [True, False]\n",
    "# Create the random grid\n",
    "random_grid = {'n_estimators': n_estimators,\n",
    "               'max_features': max_features,\n",
    "               'max_depth': max_depth,\n",
    "               'min_samples_split': min_samples_split,\n",
    "               'min_samples_leaf': min_samples_leaf,\n",
    "               'bootstrap': bootstrap}"
   ]
  },
  {
   "cell_type": "code",
   "execution_count": 12,
   "metadata": {},
   "outputs": [
    {
     "data": {
      "text/plain": [
       "RandomizedSearchCV(cv=3, estimator=RandomForestRegressor(), n_iter=100,\n",
       "                   n_jobs=-1,\n",
       "                   param_distributions={'bootstrap': [True, False],\n",
       "                                        'max_depth': [10, 20, 30, 40, 50, 60,\n",
       "                                                      70, 80, 90, 100, 110,\n",
       "                                                      None],\n",
       "                                        'max_features': ['auto', 'sqrt'],\n",
       "                                        'min_samples_leaf': [1, 2, 4],\n",
       "                                        'min_samples_split': [2, 5, 10],\n",
       "                                        'n_estimators': [200, 400, 600, 800,\n",
       "                                                         1000, 1200, 1400, 1600,\n",
       "                                                         1800, 2000]},\n",
       "                   random_state=42)"
      ]
     },
     "execution_count": 12,
     "metadata": {},
     "output_type": "execute_result"
    }
   ],
   "source": [
    "# Use the random grid to search for best hyperparameters\n",
    "\n",
    "# First create the base model to tune\n",
    "regressor_rf = RandomForestRegressor()\n",
    "# Random search of parameters, using 3 fold cross validation, \n",
    "# search across 100 different combinations, and use all available cores\n",
    "randomsearch = RandomizedSearchCV(estimator = regressor_rf, param_distributions = random_grid, n_iter = 100, cv = 3, verbose=0, random_state=42, n_jobs = -1)\n",
    "\n",
    "# Fit the random search model\n",
    "randomsearch.fit(X_train, y_train)"
   ]
  },
  {
   "cell_type": "code",
   "execution_count": 13,
   "metadata": {},
   "outputs": [
    {
     "name": "stdout",
     "output_type": "stream",
     "text": [
      "Best hyperparameters for Random Forest regressor:  {'n_estimators': 400, 'min_samples_split': 2, 'min_samples_leaf': 1, 'max_features': 'sqrt', 'max_depth': None, 'bootstrap': False}\n"
     ]
    }
   ],
   "source": [
    "# Best hyperparameters found\n",
    "print(\"Best hyperparameters for Random Forest regressor: \", randomsearch.best_params_)"
   ]
  },
  {
   "cell_type": "markdown",
   "metadata": {},
   "source": [
    "### Gridsearch hyperparameter tuning"
   ]
  },
  {
   "cell_type": "code",
   "execution_count": 14,
   "metadata": {},
   "outputs": [
    {
     "name": "stdout",
     "output_type": "stream",
     "text": [
      "Best hyperparameters for Random Forest regressor:  {'max_depth': 90, 'min_samples_split': 3, 'n_estimators': 700}\n",
      "Best R2 score Random Forest :  0.7633492224258414\n"
     ]
    }
   ],
   "source": [
    "# Fine tune hyperparameter search\n",
    "\n",
    "# Perform Grid Search for best parameters for regressors\n",
    "regressor_rf = RandomForestRegressor()\n",
    "\n",
    "# Grid of values to be tested: (alpha ==0 is equivalent to ordinary least squares solved by a linear regressor; tol = precision of the solution - default 1e-03)\n",
    "params = {\n",
    "    'max_depth': [80, 90, 100, 110],\n",
    "    'min_samples_split': [3, 4, 5],\n",
    "    'n_estimators': [500, 600, 700, 800]\n",
    "}\n",
    "gridsearch_rf = GridSearchCV(regressor_rf, param_grid = params, cv=5 ,verbose=0, n_jobs = -1)\n",
    "gridsearch_rf.fit(X_train, y_train)\n",
    "\n",
    "print(\"Best hyperparameters for Random Forest regressor: \", gridsearch_rf.best_params_)\n",
    "print(\"Best R2 score Random Forest : \", gridsearch_rf.best_score_)\n"
   ]
  },
  {
   "cell_type": "code",
   "execution_count": 15,
   "metadata": {},
   "outputs": [
    {
     "name": "stdout",
     "output_type": "stream",
     "text": [
      "R2 score on training set (Random Forest Regressor) :  0.9725403057883613\n",
      "R2 score on test set (Random Forest Regressor) :  0.6833619416577827\n"
     ]
    }
   ],
   "source": [
    "# Predic target using Ridge with best parameter alpha\n",
    "y_train_pred = gridsearch_rf.predict(X_train)\n",
    "y_test_pred = gridsearch_rf.predict(X_test)\n",
    "\n",
    "# Print R^2 scores on train/test sets for the Random Forest regressor  with optimal hyperparameters\n",
    "print(\"R2 score on training set (Random Forest Regressor) : \", r2_score(y_train, y_train_pred))\n",
    "print(\"R2 score on test set (Random Forest Regressor) : \", r2_score(y_test, y_test_pred))"
   ]
  },
  {
   "cell_type": "markdown",
   "metadata": {},
   "source": [
    "## 3. Cross validation of best model  \n",
    "\n",
    "Based on regularization results and test of random forest regressor, will keep the linear model with Ridge regularization as the best model  \n",
    " \n",
    " Carry out crossvalidation to test the performance of the chosen model"
   ]
  },
  {
   "cell_type": "code",
   "execution_count": 22,
   "metadata": {},
   "outputs": [],
   "source": [
    "# Pipeline of best model: pre-processing with basic pre-processor  and linear regressor with Ridge regularization\n",
    "best_model_pipeline = Pipeline([\n",
    "        ('preprocessing', basic_preprocessor),\n",
    "        ('lin_reg', Ridge(alpha=1.5, tol=1e-05))\n",
    "    ])"
   ]
  },
  {
   "cell_type": "code",
   "execution_count": 29,
   "metadata": {},
   "outputs": [
    {
     "name": "stdout",
     "output_type": "stream",
     "text": [
      "Cross validation results for linear regressor with basic processor and Ridge regularization:\n",
      "0.87 mean accuracy with a mean standard deviation of 0.07\n"
     ]
    }
   ],
   "source": [
    "# Cross validate using basic regressor pipeline which includes pre-processing and linear regressor \n",
    "\n",
    "cross_val_scores = cross_val_score(best_model_pipeline, X_basic, Y, cv=10)\n",
    "\n",
    "print('Cross validation results for linear regressor with basic processor and Ridge regularization:')\n",
    "print(\"%0.2f mean accuracy with a mean standard deviation of %0.2f\" % (cross_val_scores.mean(), cross_val_scores.std()))"
   ]
  },
  {
   "cell_type": "code",
   "execution_count": 37,
   "metadata": {},
   "outputs": [
    {
     "data": {
      "text/html": [
       "<div>\n",
       "<style scoped>\n",
       "    .dataframe tbody tr th:only-of-type {\n",
       "        vertical-align: middle;\n",
       "    }\n",
       "\n",
       "    .dataframe tbody tr th {\n",
       "        vertical-align: top;\n",
       "    }\n",
       "\n",
       "    .dataframe thead th {\n",
       "        text-align: right;\n",
       "    }\n",
       "</style>\n",
       "<table border=\"1\" class=\"dataframe\">\n",
       "  <thead>\n",
       "    <tr style=\"text-align: right;\">\n",
       "      <th></th>\n",
       "      <th>cv</th>\n",
       "      <th>fit_time</th>\n",
       "      <th>score_time</th>\n",
       "      <th>test_score</th>\n",
       "      <th>train_score</th>\n",
       "    </tr>\n",
       "  </thead>\n",
       "  <tbody>\n",
       "    <tr>\n",
       "      <th>0</th>\n",
       "      <td>0</td>\n",
       "      <td>0.007727</td>\n",
       "      <td>0.001918</td>\n",
       "      <td>0.773207</td>\n",
       "      <td>0.925917</td>\n",
       "    </tr>\n",
       "    <tr>\n",
       "      <th>1</th>\n",
       "      <td>1</td>\n",
       "      <td>0.006796</td>\n",
       "      <td>0.001695</td>\n",
       "      <td>0.894600</td>\n",
       "      <td>0.915794</td>\n",
       "    </tr>\n",
       "    <tr>\n",
       "      <th>2</th>\n",
       "      <td>2</td>\n",
       "      <td>0.005769</td>\n",
       "      <td>0.001382</td>\n",
       "      <td>0.889897</td>\n",
       "      <td>0.915664</td>\n",
       "    </tr>\n",
       "    <tr>\n",
       "      <th>3</th>\n",
       "      <td>3</td>\n",
       "      <td>0.005180</td>\n",
       "      <td>0.001474</td>\n",
       "      <td>0.871695</td>\n",
       "      <td>0.919154</td>\n",
       "    </tr>\n",
       "    <tr>\n",
       "      <th>4</th>\n",
       "      <td>4</td>\n",
       "      <td>0.005395</td>\n",
       "      <td>0.001311</td>\n",
       "      <td>0.749134</td>\n",
       "      <td>0.921283</td>\n",
       "    </tr>\n",
       "  </tbody>\n",
       "</table>\n",
       "</div>"
      ],
      "text/plain": [
       "   cv  fit_time  score_time  test_score  train_score\n",
       "0   0  0.007727    0.001918    0.773207     0.925917\n",
       "1   1  0.006796    0.001695    0.894600     0.915794\n",
       "2   2  0.005769    0.001382    0.889897     0.915664\n",
       "3   3  0.005180    0.001474    0.871695     0.919154\n",
       "4   4  0.005395    0.001311    0.749134     0.921283"
      ]
     },
     "execution_count": 37,
     "metadata": {},
     "output_type": "execute_result"
    }
   ],
   "source": [
    "# Cross validate to obtain test and train scores as well as fit and score time\n",
    "scores = cross_validate(best_model_pipeline, X_basic, Y, return_train_score=True, cv=10)\n",
    "scores_df = pd.DataFrame(scores).reset_index().rename(columns={'index':'cv'})\n",
    "scores_df.head()"
   ]
  },
  {
   "cell_type": "code",
   "execution_count": 39,
   "metadata": {},
   "outputs": [
    {
     "data": {
      "text/html": [
       "<div>\n",
       "<style scoped>\n",
       "    .dataframe tbody tr th:only-of-type {\n",
       "        vertical-align: middle;\n",
       "    }\n",
       "\n",
       "    .dataframe tbody tr th {\n",
       "        vertical-align: top;\n",
       "    }\n",
       "\n",
       "    .dataframe thead th {\n",
       "        text-align: right;\n",
       "    }\n",
       "</style>\n",
       "<table border=\"1\" class=\"dataframe\">\n",
       "  <thead>\n",
       "    <tr style=\"text-align: right;\">\n",
       "      <th></th>\n",
       "      <th>cv</th>\n",
       "      <th>variable</th>\n",
       "      <th>value</th>\n",
       "    </tr>\n",
       "  </thead>\n",
       "  <tbody>\n",
       "    <tr>\n",
       "      <th>0</th>\n",
       "      <td>0</td>\n",
       "      <td>test_score</td>\n",
       "      <td>0.773207</td>\n",
       "    </tr>\n",
       "    <tr>\n",
       "      <th>1</th>\n",
       "      <td>1</td>\n",
       "      <td>test_score</td>\n",
       "      <td>0.894600</td>\n",
       "    </tr>\n",
       "    <tr>\n",
       "      <th>2</th>\n",
       "      <td>2</td>\n",
       "      <td>test_score</td>\n",
       "      <td>0.889897</td>\n",
       "    </tr>\n",
       "    <tr>\n",
       "      <th>3</th>\n",
       "      <td>3</td>\n",
       "      <td>test_score</td>\n",
       "      <td>0.871695</td>\n",
       "    </tr>\n",
       "    <tr>\n",
       "      <th>4</th>\n",
       "      <td>4</td>\n",
       "      <td>test_score</td>\n",
       "      <td>0.749134</td>\n",
       "    </tr>\n",
       "  </tbody>\n",
       "</table>\n",
       "</div>"
      ],
      "text/plain": [
       "   cv    variable     value\n",
       "0   0  test_score  0.773207\n",
       "1   1  test_score  0.894600\n",
       "2   2  test_score  0.889897\n",
       "3   3  test_score  0.871695\n",
       "4   4  test_score  0.749134"
      ]
     },
     "metadata": {},
     "output_type": "display_data"
    },
    {
     "data": {
      "text/html": [
       "<div>\n",
       "<style scoped>\n",
       "    .dataframe tbody tr th:only-of-type {\n",
       "        vertical-align: middle;\n",
       "    }\n",
       "\n",
       "    .dataframe tbody tr th {\n",
       "        vertical-align: top;\n",
       "    }\n",
       "\n",
       "    .dataframe thead th {\n",
       "        text-align: right;\n",
       "    }\n",
       "</style>\n",
       "<table border=\"1\" class=\"dataframe\">\n",
       "  <thead>\n",
       "    <tr style=\"text-align: right;\">\n",
       "      <th></th>\n",
       "      <th>cv</th>\n",
       "      <th>variable</th>\n",
       "      <th>value</th>\n",
       "    </tr>\n",
       "  </thead>\n",
       "  <tbody>\n",
       "    <tr>\n",
       "      <th>0</th>\n",
       "      <td>0</td>\n",
       "      <td>fit_time</td>\n",
       "      <td>0.007727</td>\n",
       "    </tr>\n",
       "    <tr>\n",
       "      <th>1</th>\n",
       "      <td>1</td>\n",
       "      <td>fit_time</td>\n",
       "      <td>0.006796</td>\n",
       "    </tr>\n",
       "    <tr>\n",
       "      <th>2</th>\n",
       "      <td>2</td>\n",
       "      <td>fit_time</td>\n",
       "      <td>0.005769</td>\n",
       "    </tr>\n",
       "    <tr>\n",
       "      <th>3</th>\n",
       "      <td>3</td>\n",
       "      <td>fit_time</td>\n",
       "      <td>0.005180</td>\n",
       "    </tr>\n",
       "    <tr>\n",
       "      <th>4</th>\n",
       "      <td>4</td>\n",
       "      <td>fit_time</td>\n",
       "      <td>0.005395</td>\n",
       "    </tr>\n",
       "  </tbody>\n",
       "</table>\n",
       "</div>"
      ],
      "text/plain": [
       "   cv  variable     value\n",
       "0   0  fit_time  0.007727\n",
       "1   1  fit_time  0.006796\n",
       "2   2  fit_time  0.005769\n",
       "3   3  fit_time  0.005180\n",
       "4   4  fit_time  0.005395"
      ]
     },
     "metadata": {},
     "output_type": "display_data"
    }
   ],
   "source": [
    "# Dataframes a for plotting of scores \n",
    "scores_df_plot = pd.melt(scores_df, id_vars=['cv'], value_vars=['test_score', 'train_score'])\n",
    "display(scores_df_plot.head())\n",
    "\n",
    "time_df_plot = pd.melt(scores_df, id_vars=['cv'], value_vars=['fit_time', 'score_time'])\n",
    "display(time_df_plot.head())"
   ]
  },
  {
   "cell_type": "code",
   "execution_count": 56,
   "metadata": {},
   "outputs": [
    {
     "data": {
      "image/png": "[encoded data removed]",
      "text/plain": [
       "<Figure size 864x864 with 2 Axes>"
      ]
     },
     "metadata": {},
     "output_type": "display_data"
    }
   ],
   "source": [
    "# Plot\n",
    "\n",
    "# Set axes for grid and figure size\n",
    "figure, axes = plt.subplots(2, 1, figsize=(12,12))\n",
    "\n",
    "\n",
    "fig1 = sns.barplot(x=\"cv\", y=\"value\", hue=\"variable\", data=scores_df_plot, ax=axes[0])\n",
    "fig1.set(title = 'Ridge cross validation: score', xlabel='Cross validation', ylabel='R2 score')\n",
    "fig1.legend(title=\"\", bbox_to_anchor=(1.02, 1), loc='upper left', borderaxespad=0)\n",
    "\n",
    "fig2 = sns.barplot(x=\"cv\", y=\"value\", hue=\"variable\", data=time_df_plot, ax=axes[1])\n",
    "fig2.set(title = 'Ridge cross validation: time', xlabel='Cross validation', ylabel='Time')\n",
    "fig2.legend(title=\"\", bbox_to_anchor=(1.02, 1), loc='upper left', borderaxespad=0)\n",
    "\n",
    "# Export image in results\n",
    "plt.suptitle(\"Best model for prediction of Wallmart Weekly sales\")\n",
    "plt.savefig('results/Best_model_Ridge_crossval.png', bbox_inches='tight')"
   ]
  },
  {
   "cell_type": "markdown",
   "metadata": {},
   "source": [
    "## 4. Export best model pipeline"
   ]
  },
  {
   "cell_type": "code",
   "execution_count": 52,
   "metadata": {},
   "outputs": [
    {
     "data": {
      "text/plain": [
       "['models/pipeline_preprocess_ridgepredictor.joblib']"
      ]
     },
     "execution_count": 52,
     "metadata": {},
     "output_type": "execute_result"
    }
   ],
   "source": [
    "joblib.dump(best_model_pipeline, \"models/pipeline_preprocess_ridgepredictor.joblib\")"
   ]
  },
  {
   "cell_type": "markdown",
   "metadata": {},
   "source": [
    "## 4. Conclusions"
   ]
  },
  {
   "cell_type": "markdown",
   "metadata": {},
   "source": [
    "* The linear regressor resulted in a better accuracy of prediction compared the a random forest regressor  \n",
    " \n",
    " * Ridge regularization with an alpha of 0.1 and precision of 1e-05 (tol) resulted in a reduction of the overfitting observed with the linear regressor. The reduction of overfitting was probably not as strong due to the low number of overall samples (n = 136)  \n",
    " \n",
    " * A cross validation of the best model (Ridge regularization) indicated that the model was quite stable with a mean R2 score of 0.87 and mean standard deviation of 0.07  \n",
    "\n",
    "\n"
   ]
  }
 ],
 "metadata": {
  "interpreter": {
   "hash": "ac0fa52fb04ce33a0b1a6fe7dce9738c292bebc8dc4d196073405f436c00a9a4"
  },
  "kernelspec": {
   "display_name": "Python 3.9.7 ('jedha_env': venv)",
   "language": "python",
   "name": "python3"
  },
  "language_info": {
   "codemirror_mode": {
    "name": "ipython",
    "version": 3
   },
   "file_extension": ".py",
   "mimetype": "text/x-python",
   "name": "python",
   "nbconvert_exporter": "python",
   "pygments_lexer": "ipython3",
   "version": "3.9.7"
  },
  "orig_nbformat": 4
 },
 "nbformat": 4,
 "nbformat_minor": 2
}
