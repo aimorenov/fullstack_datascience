{
 "cells": [
  {
   "cell_type": "markdown",
   "metadata": {},
   "source": [
    "# Walmart Sales: model validation, regularization and selection\n",
    "\n",
    "In this notebook I selected the best regressor to predict weekly sales from the Wallmart Sales data[(Kaggle competition)](https://www.kaggle.com/competitions/walmart-sales-forecasting/overview).  \n",
    " \n",
    " In more detail, I:  \n",
    "- Validated a first linear regressor I trained on the data:  \n",
    "    - Evaluated **model performance** throught a **cross validation**  \n",
    "    - **Optimized** my linear **model** via **regularization** and **grid search** for hypeparameter tuning\n",
    "- Compared my linear model to another regressor: Random Forest Regressor\n"
   ]
  },
  {
   "cell_type": "markdown",
   "metadata": {},
   "source": [
    "## Table of Contents  \n",
    "1. Linear regressor: cross validation\n",
    "2. Linear regressor: regularization\n",
    "3. Random Forest Regressor \n",
    "4. Best model selection  \n",
    "5. Conclusions"
   ]
  }
 ],
 "metadata": {
  "language_info": {
   "name": "python"
  },
  "orig_nbformat": 4
 },
 "nbformat": 4,
 "nbformat_minor": 2
}
