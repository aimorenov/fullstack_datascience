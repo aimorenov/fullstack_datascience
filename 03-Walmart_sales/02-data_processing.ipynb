{
 "cells": [
  {
   "cell_type": "markdown",
   "metadata": {},
   "source": [
    "# Walmart Sales: Pre-processing data before modeling \n",
    "\n",
    "In this notebook I  cleaned and processed the Wallmart sales data [(Kaggle competition)](https://www.kaggle.com/competitions/walmart-sales-forecasting/overview) before using it in a machile learning model setting.  \n",
    " \n",
    " In more detail, I:  \n",
    "- Separated the **target** from the **explanatory** **variables**\n",
    "- **Feature Engineering**: Created new categorical variables from continuous explanatory variables\n"
   ]
  },
  {
   "cell_type": "markdown",
   "metadata": {},
   "source": [
    "## Table of Contents  \n",
    "1. Target variable and explanatory variables \n",
    "2. Explanatory variables: feature engineering  \n",
    "3. Export processed variables for model training  \n",
    "4. Data processing summary"
   ]
  },
  {
   "cell_type": "markdown",
   "metadata": {},
   "source": [
    "## Import libraries"
   ]
  },
  {
   "cell_type": "code",
   "execution_count": 95,
   "metadata": {},
   "outputs": [],
   "source": [
    "import pandas as pd\n",
    "import numpy as np\n",
    "\n",
    "# Import my own functions and/or variables\n",
    "from src.features.build_features import store_cat_fn, quarter_dic, year_dic, temp_bin_fn, usa_hols_df\n"
   ]
  },
  {
   "cell_type": "markdown",
   "metadata": {},
   "source": [
    "## Import data"
   ]
  },
  {
   "cell_type": "code",
   "execution_count": 96,
   "metadata": {},
   "outputs": [
    {
     "name": "stdout",
     "output_type": "stream",
     "text": [
      "There are 136 samples and 18 variables present in the EDA processed data\n"
     ]
    },
    {
     "data": {
      "text/html": [
       "<div>\n",
       "<style scoped>\n",
       "    .dataframe tbody tr th:only-of-type {\n",
       "        vertical-align: middle;\n",
       "    }\n",
       "\n",
       "    .dataframe tbody tr th {\n",
       "        vertical-align: top;\n",
       "    }\n",
       "\n",
       "    .dataframe thead th {\n",
       "        text-align: right;\n",
       "    }\n",
       "</style>\n",
       "<table border=\"1\" class=\"dataframe\">\n",
       "  <thead>\n",
       "    <tr style=\"text-align: right;\">\n",
       "      <th></th>\n",
       "      <th>Store</th>\n",
       "      <th>date</th>\n",
       "      <th>dayofweek</th>\n",
       "      <th>dayofweek_en</th>\n",
       "      <th>quarter</th>\n",
       "      <th>month</th>\n",
       "      <th>month_en</th>\n",
       "      <th>year</th>\n",
       "      <th>dayofyear</th>\n",
       "      <th>dayofmonth</th>\n",
       "      <th>weekofyear</th>\n",
       "      <th>Weekly_Sales</th>\n",
       "      <th>Holiday_Flag</th>\n",
       "      <th>Temperature</th>\n",
       "      <th>Fuel_Price</th>\n",
       "      <th>CPI</th>\n",
       "      <th>Unemployment</th>\n",
       "      <th>Store_str</th>\n",
       "    </tr>\n",
       "  </thead>\n",
       "  <tbody>\n",
       "    <tr>\n",
       "      <th>0</th>\n",
       "      <td>6.0</td>\n",
       "      <td>2011-02-18</td>\n",
       "      <td>4.0</td>\n",
       "      <td>Friday</td>\n",
       "      <td>1.0</td>\n",
       "      <td>2.0</td>\n",
       "      <td>Feb</td>\n",
       "      <td>2011.0</td>\n",
       "      <td>49.0</td>\n",
       "      <td>18.0</td>\n",
       "      <td>7.0</td>\n",
       "      <td>1572117.54</td>\n",
       "      <td>NaN</td>\n",
       "      <td>15.338889</td>\n",
       "      <td>3.045</td>\n",
       "      <td>214.777523</td>\n",
       "      <td>6.858</td>\n",
       "      <td>6.0</td>\n",
       "    </tr>\n",
       "    <tr>\n",
       "      <th>1</th>\n",
       "      <td>13.0</td>\n",
       "      <td>2011-03-25</td>\n",
       "      <td>4.0</td>\n",
       "      <td>Friday</td>\n",
       "      <td>1.0</td>\n",
       "      <td>3.0</td>\n",
       "      <td>Mar</td>\n",
       "      <td>2011.0</td>\n",
       "      <td>84.0</td>\n",
       "      <td>25.0</td>\n",
       "      <td>12.0</td>\n",
       "      <td>1807545.43</td>\n",
       "      <td>0.0</td>\n",
       "      <td>5.766667</td>\n",
       "      <td>3.435</td>\n",
       "      <td>128.616064</td>\n",
       "      <td>7.470</td>\n",
       "      <td>13.0</td>\n",
       "    </tr>\n",
       "    <tr>\n",
       "      <th>2</th>\n",
       "      <td>11.0</td>\n",
       "      <td>NaN</td>\n",
       "      <td>NaN</td>\n",
       "      <td>NaN</td>\n",
       "      <td>NaN</td>\n",
       "      <td>NaN</td>\n",
       "      <td>NaN</td>\n",
       "      <td>NaN</td>\n",
       "      <td>NaN</td>\n",
       "      <td>NaN</td>\n",
       "      <td>NaN</td>\n",
       "      <td>1244390.03</td>\n",
       "      <td>0.0</td>\n",
       "      <td>29.205556</td>\n",
       "      <td>NaN</td>\n",
       "      <td>214.556497</td>\n",
       "      <td>7.346</td>\n",
       "      <td>11.0</td>\n",
       "    </tr>\n",
       "    <tr>\n",
       "      <th>3</th>\n",
       "      <td>6.0</td>\n",
       "      <td>2010-05-28</td>\n",
       "      <td>4.0</td>\n",
       "      <td>Friday</td>\n",
       "      <td>2.0</td>\n",
       "      <td>5.0</td>\n",
       "      <td>May</td>\n",
       "      <td>2010.0</td>\n",
       "      <td>148.0</td>\n",
       "      <td>28.0</td>\n",
       "      <td>21.0</td>\n",
       "      <td>1644470.66</td>\n",
       "      <td>0.0</td>\n",
       "      <td>26.050000</td>\n",
       "      <td>2.759</td>\n",
       "      <td>212.412888</td>\n",
       "      <td>7.092</td>\n",
       "      <td>6.0</td>\n",
       "    </tr>\n",
       "    <tr>\n",
       "      <th>4</th>\n",
       "      <td>4.0</td>\n",
       "      <td>2010-05-28</td>\n",
       "      <td>4.0</td>\n",
       "      <td>Friday</td>\n",
       "      <td>2.0</td>\n",
       "      <td>5.0</td>\n",
       "      <td>May</td>\n",
       "      <td>2010.0</td>\n",
       "      <td>148.0</td>\n",
       "      <td>28.0</td>\n",
       "      <td>21.0</td>\n",
       "      <td>1857533.70</td>\n",
       "      <td>0.0</td>\n",
       "      <td>NaN</td>\n",
       "      <td>2.756</td>\n",
       "      <td>126.160226</td>\n",
       "      <td>7.896</td>\n",
       "      <td>4.0</td>\n",
       "    </tr>\n",
       "  </tbody>\n",
       "</table>\n",
       "</div>"
      ],
      "text/plain": [
       "   Store        date  dayofweek dayofweek_en  quarter  month month_en    year  \\\n",
       "0    6.0  2011-02-18        4.0       Friday      1.0    2.0      Feb  2011.0   \n",
       "1   13.0  2011-03-25        4.0       Friday      1.0    3.0      Mar  2011.0   \n",
       "2   11.0         NaN        NaN          NaN      NaN    NaN      NaN     NaN   \n",
       "3    6.0  2010-05-28        4.0       Friday      2.0    5.0      May  2010.0   \n",
       "4    4.0  2010-05-28        4.0       Friday      2.0    5.0      May  2010.0   \n",
       "\n",
       "   dayofyear  dayofmonth  weekofyear  Weekly_Sales  Holiday_Flag  Temperature  \\\n",
       "0       49.0        18.0         7.0    1572117.54           NaN    15.338889   \n",
       "1       84.0        25.0        12.0    1807545.43           0.0     5.766667   \n",
       "2        NaN         NaN         NaN    1244390.03           0.0    29.205556   \n",
       "3      148.0        28.0        21.0    1644470.66           0.0    26.050000   \n",
       "4      148.0        28.0        21.0    1857533.70           0.0          NaN   \n",
       "\n",
       "   Fuel_Price         CPI  Unemployment  Store_str  \n",
       "0       3.045  214.777523         6.858        6.0  \n",
       "1       3.435  128.616064         7.470       13.0  \n",
       "2         NaN  214.556497         7.346       11.0  \n",
       "3       2.759  212.412888         7.092        6.0  \n",
       "4       2.756  126.160226         7.896        4.0  "
      ]
     },
     "execution_count": 96,
     "metadata": {},
     "output_type": "execute_result"
    }
   ],
   "source": [
    "# Import eda pre-processed data\n",
    "data_eda_df = pd.read_csv(\"data/interim/Walmart_Store_sales.csv\").iloc[: , 1:] # drop first unnamed index column\n",
    "print(\"There are {} samples and {} variables present in the EDA processed data\".format(data_eda_df.shape[0], data_eda_df.shape[1]))\n",
    "data_eda_df.head()\n"
   ]
  },
  {
   "cell_type": "code",
   "execution_count": 97,
   "metadata": {},
   "outputs": [
    {
     "name": "stdout",
     "output_type": "stream",
     "text": [
      "<class 'pandas.core.frame.DataFrame'>\n",
      "RangeIndex: 136 entries, 0 to 135\n",
      "Data columns (total 18 columns):\n",
      " #   Column        Non-Null Count  Dtype  \n",
      "---  ------        --------------  -----  \n",
      " 0   Store         136 non-null    float64\n",
      " 1   date          118 non-null    object \n",
      " 2   dayofweek     118 non-null    float64\n",
      " 3   dayofweek_en  118 non-null    object \n",
      " 4   quarter       118 non-null    float64\n",
      " 5   month         118 non-null    float64\n",
      " 6   month_en      118 non-null    object \n",
      " 7   year          118 non-null    float64\n",
      " 8   dayofyear     118 non-null    float64\n",
      " 9   dayofmonth    118 non-null    float64\n",
      " 10  weekofyear    118 non-null    float64\n",
      " 11  Weekly_Sales  136 non-null    float64\n",
      " 12  Holiday_Flag  125 non-null    float64\n",
      " 13  Temperature   121 non-null    float64\n",
      " 14  Fuel_Price    124 non-null    float64\n",
      " 15  CPI           125 non-null    float64\n",
      " 16  Unemployment  122 non-null    float64\n",
      " 17  Store_str     136 non-null    float64\n",
      "dtypes: float64(15), object(3)\n",
      "memory usage: 19.2+ KB\n"
     ]
    }
   ],
   "source": [
    "# Variable number and types\n",
    "data_eda_df.info()"
   ]
  },
  {
   "cell_type": "markdown",
   "metadata": {},
   "source": [
    "## Drop outliers  \n",
    "\n",
    "Based on EDA, drop store 12"
   ]
  },
  {
   "cell_type": "code",
   "execution_count": 98,
   "metadata": {},
   "outputs": [
    {
     "name": "stdout",
     "output_type": "stream",
     "text": [
      "There are 131 samples and 18 variables present\n"
     ]
    }
   ],
   "source": [
    "# Create copy of original data\n",
    "data_model_df = data_eda_df.copy()\n",
    "\n",
    "data_model_df = data_model_df[data_model_df['Store'] !=12] #Note: tried dropping this sample but performance of model was worse, so kept it with a tag\n",
    "\n",
    "print(\"There are {} samples and {} variables present\".format(data_model_df.shape[0], data_model_df.shape[1]))"
   ]
  },
  {
   "cell_type": "markdown",
   "metadata": {},
   "source": [
    "## 1. Target variable and explanatory variables"
   ]
  },
  {
   "cell_type": "code",
   "execution_count": 99,
   "metadata": {},
   "outputs": [],
   "source": [
    "# Store_str imported as float, re-convert to string and drop Store column\n",
    "data_model_df['Store_str'] = [str(store) for store in data_model_df.Store.tolist()]"
   ]
  },
  {
   "cell_type": "markdown",
   "metadata": {},
   "source": [
    "## 1a. Target Variable"
   ]
  },
  {
   "cell_type": "code",
   "execution_count": 100,
   "metadata": {},
   "outputs": [
    {
     "name": "stdout",
     "output_type": "stream",
     "text": [
      "(131,)\n",
      "0    1572117.54\n",
      "1    1807545.43\n",
      "2    1244390.03\n",
      "3    1644470.66\n",
      "4    1857533.70\n",
      "Name: Weekly_Sales, dtype: float64\n"
     ]
    }
   ],
   "source": [
    "target_variable = \"Weekly_Sales\"\n",
    "Y = data_model_df.loc[:,target_variable]\n",
    "print(Y.shape)\n",
    "print(Y.head())"
   ]
  },
  {
   "cell_type": "markdown",
   "metadata": {},
   "source": [
    "## 1b. Explanatory Variables"
   ]
  },
  {
   "cell_type": "code",
   "execution_count": 101,
   "metadata": {},
   "outputs": [
    {
     "name": "stdout",
     "output_type": "stream",
     "text": [
      "Shape before filter: (131, 18)\n",
      "Shape of explanatory variables dataframe after filter: (131, 10)\n"
     ]
    }
   ],
   "source": [
    "# Drop  date variables which are collinear (see 01-EDA.ipynb for correlation heatmap)\n",
    "# Keep store ID and Weekly sales for feature engineering\n",
    "features_drop_ls= ['Store', 'date', 'dayofweek', 'dayofweek_en', 'month', 'month_en','dayofyear', 'dayofmonth']\n",
    "\n",
    "print('Shape before filter:', data_model_df.shape)\n",
    "X_raw = data_model_df.drop(columns=features_drop_ls, axis=1)\n",
    "print('Shape of explanatory variables dataframe after filter:', X_raw.shape)\n"
   ]
  },
  {
   "cell_type": "markdown",
   "metadata": {},
   "source": [
    "### Convert year variable to string"
   ]
  },
  {
   "cell_type": "code",
   "execution_count": 102,
   "metadata": {},
   "outputs": [
    {
     "data": {
      "text/plain": [
       "str"
      ]
     },
     "execution_count": 102,
     "metadata": {},
     "output_type": "execute_result"
    }
   ],
   "source": [
    "X_raw['year'] = X_raw['year'].map(year_dic)\n",
    "# Check conversion\n",
    "type(X_raw.year.tolist()[0])"
   ]
  },
  {
   "cell_type": "code",
   "execution_count": 103,
   "metadata": {},
   "outputs": [
    {
     "data": {
      "text/html": [
       "<div>\n",
       "<style scoped>\n",
       "    .dataframe tbody tr th:only-of-type {\n",
       "        vertical-align: middle;\n",
       "    }\n",
       "\n",
       "    .dataframe tbody tr th {\n",
       "        vertical-align: top;\n",
       "    }\n",
       "\n",
       "    .dataframe thead th {\n",
       "        text-align: right;\n",
       "    }\n",
       "</style>\n",
       "<table border=\"1\" class=\"dataframe\">\n",
       "  <thead>\n",
       "    <tr style=\"text-align: right;\">\n",
       "      <th></th>\n",
       "      <th>quarter</th>\n",
       "      <th>year</th>\n",
       "      <th>weekofyear</th>\n",
       "      <th>Weekly_Sales</th>\n",
       "      <th>Holiday_Flag</th>\n",
       "      <th>Temperature</th>\n",
       "      <th>Fuel_Price</th>\n",
       "      <th>CPI</th>\n",
       "      <th>Unemployment</th>\n",
       "      <th>Store_str</th>\n",
       "    </tr>\n",
       "  </thead>\n",
       "  <tbody>\n",
       "    <tr>\n",
       "      <th>count</th>\n",
       "      <td>113.000000</td>\n",
       "      <td>113</td>\n",
       "      <td>113.000000</td>\n",
       "      <td>1.310000e+02</td>\n",
       "      <td>120.000000</td>\n",
       "      <td>117.000000</td>\n",
       "      <td>119.000000</td>\n",
       "      <td>120.000000</td>\n",
       "      <td>117.000000</td>\n",
       "      <td>131</td>\n",
       "    </tr>\n",
       "    <tr>\n",
       "      <th>unique</th>\n",
       "      <td>NaN</td>\n",
       "      <td>3</td>\n",
       "      <td>NaN</td>\n",
       "      <td>NaN</td>\n",
       "      <td>NaN</td>\n",
       "      <td>NaN</td>\n",
       "      <td>NaN</td>\n",
       "      <td>NaN</td>\n",
       "      <td>NaN</td>\n",
       "      <td>19</td>\n",
       "    </tr>\n",
       "    <tr>\n",
       "      <th>top</th>\n",
       "      <td>NaN</td>\n",
       "      <td>y1</td>\n",
       "      <td>NaN</td>\n",
       "      <td>NaN</td>\n",
       "      <td>NaN</td>\n",
       "      <td>NaN</td>\n",
       "      <td>NaN</td>\n",
       "      <td>NaN</td>\n",
       "      <td>NaN</td>\n",
       "      <td>3.0</td>\n",
       "    </tr>\n",
       "    <tr>\n",
       "      <th>freq</th>\n",
       "      <td>NaN</td>\n",
       "      <td>49</td>\n",
       "      <td>NaN</td>\n",
       "      <td>NaN</td>\n",
       "      <td>NaN</td>\n",
       "      <td>NaN</td>\n",
       "      <td>NaN</td>\n",
       "      <td>NaN</td>\n",
       "      <td>NaN</td>\n",
       "      <td>12</td>\n",
       "    </tr>\n",
       "    <tr>\n",
       "      <th>mean</th>\n",
       "      <td>2.415929</td>\n",
       "      <td>NaN</td>\n",
       "      <td>25.159292</td>\n",
       "      <td>1.257990e+06</td>\n",
       "      <td>0.066667</td>\n",
       "      <td>15.781054</td>\n",
       "      <td>3.302908</td>\n",
       "      <td>180.175755</td>\n",
       "      <td>7.399427</td>\n",
       "      <td>NaN</td>\n",
       "    </tr>\n",
       "    <tr>\n",
       "      <th>std</th>\n",
       "      <td>1.066751</td>\n",
       "      <td>NaN</td>\n",
       "      <td>13.818056</td>\n",
       "      <td>6.577463e+05</td>\n",
       "      <td>0.250490</td>\n",
       "      <td>10.259300</td>\n",
       "      <td>0.475435</td>\n",
       "      <td>39.723167</td>\n",
       "      <td>0.994117</td>\n",
       "      <td>NaN</td>\n",
       "    </tr>\n",
       "    <tr>\n",
       "      <th>min</th>\n",
       "      <td>1.000000</td>\n",
       "      <td>NaN</td>\n",
       "      <td>1.000000</td>\n",
       "      <td>2.689290e+05</td>\n",
       "      <td>0.000000</td>\n",
       "      <td>-7.338889</td>\n",
       "      <td>2.514000</td>\n",
       "      <td>126.111903</td>\n",
       "      <td>5.143000</td>\n",
       "      <td>NaN</td>\n",
       "    </tr>\n",
       "    <tr>\n",
       "      <th>25%</th>\n",
       "      <td>2.000000</td>\n",
       "      <td>NaN</td>\n",
       "      <td>15.000000</td>\n",
       "      <td>5.842439e+05</td>\n",
       "      <td>0.000000</td>\n",
       "      <td>7.122222</td>\n",
       "      <td>2.824000</td>\n",
       "      <td>132.579257</td>\n",
       "      <td>6.664000</td>\n",
       "      <td>NaN</td>\n",
       "    </tr>\n",
       "    <tr>\n",
       "      <th>50%</th>\n",
       "      <td>2.000000</td>\n",
       "      <td>NaN</td>\n",
       "      <td>25.000000</td>\n",
       "      <td>1.366396e+06</td>\n",
       "      <td>0.000000</td>\n",
       "      <td>16.550000</td>\n",
       "      <td>3.435000</td>\n",
       "      <td>197.655672</td>\n",
       "      <td>7.368000</td>\n",
       "      <td>NaN</td>\n",
       "    </tr>\n",
       "    <tr>\n",
       "      <th>75%</th>\n",
       "      <td>3.000000</td>\n",
       "      <td>NaN</td>\n",
       "      <td>36.000000</td>\n",
       "      <td>1.809576e+06</td>\n",
       "      <td>0.000000</td>\n",
       "      <td>24.188889</td>\n",
       "      <td>3.708500</td>\n",
       "      <td>214.904838</td>\n",
       "      <td>8.099000</td>\n",
       "      <td>NaN</td>\n",
       "    </tr>\n",
       "    <tr>\n",
       "      <th>max</th>\n",
       "      <td>4.000000</td>\n",
       "      <td>NaN</td>\n",
       "      <td>52.000000</td>\n",
       "      <td>2.771397e+06</td>\n",
       "      <td>1.000000</td>\n",
       "      <td>33.138889</td>\n",
       "      <td>4.170000</td>\n",
       "      <td>226.968844</td>\n",
       "      <td>9.524000</td>\n",
       "      <td>NaN</td>\n",
       "    </tr>\n",
       "  </tbody>\n",
       "</table>\n",
       "</div>"
      ],
      "text/plain": [
       "           quarter year  weekofyear  Weekly_Sales  Holiday_Flag  Temperature  \\\n",
       "count   113.000000  113  113.000000  1.310000e+02    120.000000   117.000000   \n",
       "unique         NaN    3         NaN           NaN           NaN          NaN   \n",
       "top            NaN   y1         NaN           NaN           NaN          NaN   \n",
       "freq           NaN   49         NaN           NaN           NaN          NaN   \n",
       "mean      2.415929  NaN   25.159292  1.257990e+06      0.066667    15.781054   \n",
       "std       1.066751  NaN   13.818056  6.577463e+05      0.250490    10.259300   \n",
       "min       1.000000  NaN    1.000000  2.689290e+05      0.000000    -7.338889   \n",
       "25%       2.000000  NaN   15.000000  5.842439e+05      0.000000     7.122222   \n",
       "50%       2.000000  NaN   25.000000  1.366396e+06      0.000000    16.550000   \n",
       "75%       3.000000  NaN   36.000000  1.809576e+06      0.000000    24.188889   \n",
       "max       4.000000  NaN   52.000000  2.771397e+06      1.000000    33.138889   \n",
       "\n",
       "        Fuel_Price         CPI  Unemployment Store_str  \n",
       "count   119.000000  120.000000    117.000000       131  \n",
       "unique         NaN         NaN           NaN        19  \n",
       "top            NaN         NaN           NaN       3.0  \n",
       "freq           NaN         NaN           NaN        12  \n",
       "mean      3.302908  180.175755      7.399427       NaN  \n",
       "std       0.475435   39.723167      0.994117       NaN  \n",
       "min       2.514000  126.111903      5.143000       NaN  \n",
       "25%       2.824000  132.579257      6.664000       NaN  \n",
       "50%       3.435000  197.655672      7.368000       NaN  \n",
       "75%       3.708500  214.904838      8.099000       NaN  \n",
       "max       4.170000  226.968844      9.524000       NaN  "
      ]
     },
     "execution_count": 103,
     "metadata": {},
     "output_type": "execute_result"
    }
   ],
   "source": [
    "# Description of variables\n",
    "X_raw.describe(include='all')"
   ]
  },
  {
   "cell_type": "markdown",
   "metadata": {},
   "source": [
    "## 2. Explanatory variables: feature engineering"
   ]
  },
  {
   "cell_type": "markdown",
   "metadata": {},
   "source": [
    "### Create groups of stores based on weekly sales, CPI and/or unemployment rate"
   ]
  },
  {
   "cell_type": "code",
   "execution_count": 104,
   "metadata": {},
   "outputs": [
    {
     "name": "stdout",
     "output_type": "stream",
     "text": [
      "Data shape before feat eng: (131, 10)\n",
      "Data shape after feat eng: (131, 12)\n"
     ]
    }
   ],
   "source": [
    "# Create categories for store based on EDA figure comparing Weekly Sales vs CPI and/or Unemployment rate:\n",
    "\n",
    "# Define thresholds to be used for categories\n",
    "median_weekly_sales = round(X_raw['Weekly_Sales'].median(), 2)\n",
    "high_CPI = 150\n",
    "median_unemp = round(X_raw['Unemployment'].median(), 2)\n",
    "\n",
    "# Create categories and column. Define store 12 as outlier sample (cf EDA plot CPI vs Unemployment and weekly sales in section 4)\n",
    "X_feateng = store_cat_fn(data=X_raw, thresh_sales=median_weekly_sales, thresh_CPI=high_CPI, thresh_unemp=median_unemp, outlier_samp='12.0')\n",
    "\n",
    "print('Data shape before feat eng:', X_raw.shape)\n",
    "print('Data shape after feat eng:', X_feateng.shape)\n"
   ]
  },
  {
   "cell_type": "code",
   "execution_count": 105,
   "metadata": {},
   "outputs": [
    {
     "name": "stdout",
     "output_type": "stream",
     "text": [
      "Store groups based on weekly sales and CPI\n",
      "lowsales_highCPI     40\n",
      "highsales_highCPI    34\n",
      "highsales_lowCPI     25\n",
      "lowsales_lowCPI      21\n",
      "Name: Store_group_CPI, dtype: int64\n",
      "###\n",
      "Sore groups based on weekly sales and unemployment rate\n",
      "highsales_highunemp    37\n",
      "lowsales_lowunemp      35\n",
      "highsales_lowunemp     24\n",
      "lowsales_highunemp     21\n",
      "Name: Store_group_unemp, dtype: int64\n"
     ]
    }
   ],
   "source": [
    "# Describe newly created store groups\n",
    "print('Store groups based on weekly sales and CPI')\n",
    "print(X_feateng['Store_group_CPI'].value_counts())\n",
    "\n",
    "print('###')\n",
    "\n",
    "print('Sore groups based on weekly sales and unemployment rate')\n",
    "print(X_feateng['Store_group_unemp'].value_counts())\n"
   ]
  },
  {
   "cell_type": "markdown",
   "metadata": {},
   "source": [
    "### Convert quarter variable to string"
   ]
  },
  {
   "cell_type": "code",
   "execution_count": 106,
   "metadata": {},
   "outputs": [
    {
     "data": {
      "text/plain": [
       "q2    35\n",
       "q3    28\n",
       "q1    27\n",
       "q4    23\n",
       "Name: quarter_str, dtype: int64"
      ]
     },
     "execution_count": 106,
     "metadata": {},
     "output_type": "execute_result"
    }
   ],
   "source": [
    "X_feateng['quarter_str'] = X_feateng['quarter'].map(quarter_dic)\n",
    "# Check conversion\n",
    "X_feateng.quarter_str.value_counts()"
   ]
  },
  {
   "cell_type": "markdown",
   "metadata": {},
   "source": [
    "### Convert week variable to string"
   ]
  },
  {
   "cell_type": "code",
   "execution_count": 107,
   "metadata": {},
   "outputs": [
    {
     "name": "stdout",
     "output_type": "stream",
     "text": [
      "['w7', 'w12', None, 'w21', 'w21']\n"
     ]
    }
   ],
   "source": [
    "X_feateng.weekofyear = ['w'+str(int(week)) if ~np.isnan(week) else None for week in X_feateng.weekofyear.tolist()]\n",
    "print(X_feateng.weekofyear.tolist()[:5])"
   ]
  },
  {
   "cell_type": "markdown",
   "metadata": {},
   "source": [
    "### Categorize temperature\n",
    "Categorize certain numerical variables to see if we can improve performance of model "
   ]
  },
  {
   "cell_type": "code",
   "execution_count": 108,
   "metadata": {},
   "outputs": [
    {
     "name": "stdout",
     "output_type": "stream",
     "text": [
      "count    117.000000\n",
      "mean      15.781054\n",
      "std       10.259300\n",
      "min       -7.338889\n",
      "25%        7.122222\n",
      "50%       16.550000\n",
      "75%       24.188889\n",
      "max       33.138889\n",
      "Name: Temperature, dtype: float64\n",
      "Data shape after feat eng: (131, 14)\n",
      "Value counts:\n"
     ]
    },
    {
     "data": {
      "text/plain": [
       "mean_temp    63\n",
       "low_temp     28\n",
       "high_temp    26\n",
       "Name: Temperature_group, dtype: int64"
      ]
     },
     "execution_count": 108,
     "metadata": {},
     "output_type": "execute_result"
    }
   ],
   "source": [
    "# TEMPERATURE\n",
    " \n",
    "# Temperature distribution\n",
    "print(X_feateng['Temperature'].describe())\n",
    "\n",
    "# Categorize using bins function\n",
    "X_feateng['Temperature_group'] = temp_bin_fn(data=X_feateng, temp_col='Temperature', temp_low=7, temp_high=25)\n",
    "\n",
    "print('Data shape after feat eng:', X_feateng.shape)\n",
    "print('Value counts:')\n",
    "X_feateng.Temperature_group.value_counts()"
   ]
  },
  {
   "cell_type": "code",
   "execution_count": 109,
   "metadata": {},
   "outputs": [
    {
     "data": {
      "text/plain": [
       "(131, 14)"
      ]
     },
     "execution_count": 109,
     "metadata": {},
     "output_type": "execute_result"
    }
   ],
   "source": [
    "X_feateng.shape"
   ]
  },
  {
   "cell_type": "markdown",
   "metadata": {},
   "source": [
    "### Holiday Flag: update flag to correspond to week near a holiday  \n",
    "\n",
    "Since weekly sales are reported every Friday, the probability of having a holiday fall on that day is low. Create a variable *weekofyear_holiday* to indicate if the week of the sales corresponds to a week where there is an important holiday or (religious) event.   \n",
    "\n",
    "Events collected from: [timeanddate](https://www.timeanddate.com/holidays/us/2011)"
   ]
  },
  {
   "cell_type": "code",
   "execution_count": 110,
   "metadata": {},
   "outputs": [
    {
     "data": {
      "text/html": [
       "<div>\n",
       "<style scoped>\n",
       "    .dataframe tbody tr th:only-of-type {\n",
       "        vertical-align: middle;\n",
       "    }\n",
       "\n",
       "    .dataframe tbody tr th {\n",
       "        vertical-align: top;\n",
       "    }\n",
       "\n",
       "    .dataframe thead th {\n",
       "        text-align: right;\n",
       "    }\n",
       "</style>\n",
       "<table border=\"1\" class=\"dataframe\">\n",
       "  <thead>\n",
       "    <tr style=\"text-align: right;\">\n",
       "      <th></th>\n",
       "      <th>year</th>\n",
       "      <th>weekofyear</th>\n",
       "      <th>weekofyear_holiday</th>\n",
       "    </tr>\n",
       "  </thead>\n",
       "  <tbody>\n",
       "    <tr>\n",
       "      <th>0</th>\n",
       "      <td>y1</td>\n",
       "      <td>wwww53</td>\n",
       "      <td>1</td>\n",
       "    </tr>\n",
       "    <tr>\n",
       "      <th>1</th>\n",
       "      <td>y1</td>\n",
       "      <td>wwww3</td>\n",
       "      <td>1</td>\n",
       "    </tr>\n",
       "    <tr>\n",
       "      <th>2</th>\n",
       "      <td>y1</td>\n",
       "      <td>wwww5</td>\n",
       "      <td>1</td>\n",
       "    </tr>\n",
       "    <tr>\n",
       "      <th>3</th>\n",
       "      <td>y1</td>\n",
       "      <td>wwww6</td>\n",
       "      <td>1</td>\n",
       "    </tr>\n",
       "    <tr>\n",
       "      <th>4</th>\n",
       "      <td>y1</td>\n",
       "      <td>wwww13</td>\n",
       "      <td>1</td>\n",
       "    </tr>\n",
       "  </tbody>\n",
       "</table>\n",
       "</div>"
      ],
      "text/plain": [
       "  year weekofyear  weekofyear_holiday\n",
       "0   y1     wwww53                   1\n",
       "1   y1      wwww3                   1\n",
       "2   y1      wwww5                   1\n",
       "3   y1      wwww6                   1\n",
       "4   y1     wwww13                   1"
      ]
     },
     "execution_count": 110,
     "metadata": {},
     "output_type": "execute_result"
    }
   ],
   "source": [
    "# Import dataframe indicating if there is a holiday on given week of the year\n",
    "usa_hols_df.head()\n"
   ]
  },
  {
   "cell_type": "code",
   "execution_count": 111,
   "metadata": {},
   "outputs": [
    {
     "data": {
      "text/html": [
       "<div>\n",
       "<style scoped>\n",
       "    .dataframe tbody tr th:only-of-type {\n",
       "        vertical-align: middle;\n",
       "    }\n",
       "\n",
       "    .dataframe tbody tr th {\n",
       "        vertical-align: top;\n",
       "    }\n",
       "\n",
       "    .dataframe thead th {\n",
       "        text-align: right;\n",
       "    }\n",
       "</style>\n",
       "<table border=\"1\" class=\"dataframe\">\n",
       "  <thead>\n",
       "    <tr style=\"text-align: right;\">\n",
       "      <th></th>\n",
       "      <th>quarter</th>\n",
       "      <th>year</th>\n",
       "      <th>weekofyear</th>\n",
       "      <th>Weekly_Sales</th>\n",
       "      <th>Holiday_Flag</th>\n",
       "      <th>Temperature</th>\n",
       "      <th>Fuel_Price</th>\n",
       "      <th>CPI</th>\n",
       "      <th>Unemployment</th>\n",
       "      <th>Store_str</th>\n",
       "      <th>Store_group_CPI</th>\n",
       "      <th>Store_group_unemp</th>\n",
       "      <th>quarter_str</th>\n",
       "      <th>Temperature_group</th>\n",
       "      <th>weekofyear_holiday</th>\n",
       "    </tr>\n",
       "  </thead>\n",
       "  <tbody>\n",
       "    <tr>\n",
       "      <th>0</th>\n",
       "      <td>1.0</td>\n",
       "      <td>y2</td>\n",
       "      <td>w7</td>\n",
       "      <td>1572117.54</td>\n",
       "      <td>NaN</td>\n",
       "      <td>15.338889</td>\n",
       "      <td>3.045</td>\n",
       "      <td>214.777523</td>\n",
       "      <td>6.858</td>\n",
       "      <td>6.0</td>\n",
       "      <td>highsales_highCPI</td>\n",
       "      <td>highsales_lowunemp</td>\n",
       "      <td>q1</td>\n",
       "      <td>mean_temp</td>\n",
       "      <td>NaN</td>\n",
       "    </tr>\n",
       "    <tr>\n",
       "      <th>1</th>\n",
       "      <td>1.0</td>\n",
       "      <td>y2</td>\n",
       "      <td>w12</td>\n",
       "      <td>1807545.43</td>\n",
       "      <td>0.0</td>\n",
       "      <td>5.766667</td>\n",
       "      <td>3.435</td>\n",
       "      <td>128.616064</td>\n",
       "      <td>7.470</td>\n",
       "      <td>13.0</td>\n",
       "      <td>highsales_lowCPI</td>\n",
       "      <td>highsales_highunemp</td>\n",
       "      <td>q1</td>\n",
       "      <td>low_temp</td>\n",
       "      <td>0.0</td>\n",
       "    </tr>\n",
       "    <tr>\n",
       "      <th>2</th>\n",
       "      <td>NaN</td>\n",
       "      <td>NaN</td>\n",
       "      <td>None</td>\n",
       "      <td>1244390.03</td>\n",
       "      <td>0.0</td>\n",
       "      <td>29.205556</td>\n",
       "      <td>NaN</td>\n",
       "      <td>214.556497</td>\n",
       "      <td>7.346</td>\n",
       "      <td>11.0</td>\n",
       "      <td>lowsales_highCPI</td>\n",
       "      <td>lowsales_lowunemp</td>\n",
       "      <td>NaN</td>\n",
       "      <td>high_temp</td>\n",
       "      <td>0.0</td>\n",
       "    </tr>\n",
       "    <tr>\n",
       "      <th>3</th>\n",
       "      <td>2.0</td>\n",
       "      <td>y1</td>\n",
       "      <td>w21</td>\n",
       "      <td>1644470.66</td>\n",
       "      <td>0.0</td>\n",
       "      <td>26.050000</td>\n",
       "      <td>2.759</td>\n",
       "      <td>212.412888</td>\n",
       "      <td>7.092</td>\n",
       "      <td>6.0</td>\n",
       "      <td>highsales_highCPI</td>\n",
       "      <td>highsales_lowunemp</td>\n",
       "      <td>q2</td>\n",
       "      <td>high_temp</td>\n",
       "      <td>0.0</td>\n",
       "    </tr>\n",
       "    <tr>\n",
       "      <th>4</th>\n",
       "      <td>2.0</td>\n",
       "      <td>y1</td>\n",
       "      <td>w21</td>\n",
       "      <td>1857533.70</td>\n",
       "      <td>0.0</td>\n",
       "      <td>NaN</td>\n",
       "      <td>2.756</td>\n",
       "      <td>126.160226</td>\n",
       "      <td>7.896</td>\n",
       "      <td>4.0</td>\n",
       "      <td>highsales_lowCPI</td>\n",
       "      <td>highsales_highunemp</td>\n",
       "      <td>q2</td>\n",
       "      <td>NaN</td>\n",
       "      <td>0.0</td>\n",
       "    </tr>\n",
       "  </tbody>\n",
       "</table>\n",
       "</div>"
      ],
      "text/plain": [
       "   quarter year weekofyear  Weekly_Sales  Holiday_Flag  Temperature  \\\n",
       "0      1.0   y2         w7    1572117.54           NaN    15.338889   \n",
       "1      1.0   y2        w12    1807545.43           0.0     5.766667   \n",
       "2      NaN  NaN       None    1244390.03           0.0    29.205556   \n",
       "3      2.0   y1        w21    1644470.66           0.0    26.050000   \n",
       "4      2.0   y1        w21    1857533.70           0.0          NaN   \n",
       "\n",
       "   Fuel_Price         CPI  Unemployment Store_str    Store_group_CPI  \\\n",
       "0       3.045  214.777523         6.858       6.0  highsales_highCPI   \n",
       "1       3.435  128.616064         7.470      13.0   highsales_lowCPI   \n",
       "2         NaN  214.556497         7.346      11.0   lowsales_highCPI   \n",
       "3       2.759  212.412888         7.092       6.0  highsales_highCPI   \n",
       "4       2.756  126.160226         7.896       4.0   highsales_lowCPI   \n",
       "\n",
       "     Store_group_unemp quarter_str Temperature_group  weekofyear_holiday  \n",
       "0   highsales_lowunemp          q1         mean_temp                 NaN  \n",
       "1  highsales_highunemp          q1          low_temp                 0.0  \n",
       "2    lowsales_lowunemp         NaN         high_temp                 0.0  \n",
       "3   highsales_lowunemp          q2         high_temp                 0.0  \n",
       "4  highsales_highunemp          q2               NaN                 0.0  "
      ]
     },
     "execution_count": 111,
     "metadata": {},
     "output_type": "execute_result"
    }
   ],
   "source": [
    "# Merge usahols to Xfeateng\n",
    "\n",
    "# Convert weekofyear to str for merging\n",
    "usa_hols_df.weekofyear = ['w'+str(week) for week in usa_hols_df.weekofyear.tolist() ]\n",
    "\n",
    "# merge\n",
    "X_feateng = X_feateng.merge(usa_hols_df, how='left', on=['year','weekofyear'])\n",
    "\n",
    "# Update weekofyear_holiday with Holiday_Flag\n",
    "vals_update = (np.isnan(X_feateng['weekofyear_holiday'])) & (X_feateng['Holiday_Flag']==0) \n",
    "\n",
    "X_feateng.loc[vals_update, 'weekofyear_holiday'] = 0\n",
    "X_feateng.head()"
   ]
  },
  {
   "cell_type": "code",
   "execution_count": 112,
   "metadata": {},
   "outputs": [
    {
     "data": {
      "text/plain": [
       "(131, 15)"
      ]
     },
     "execution_count": 112,
     "metadata": {},
     "output_type": "execute_result"
    }
   ],
   "source": [
    "X_feateng.shape"
   ]
  },
  {
   "cell_type": "code",
   "execution_count": 113,
   "metadata": {},
   "outputs": [
    {
     "data": {
      "text/plain": [
       "0.0    112\n",
       "1.0      8\n",
       "Name: Holiday_Flag, dtype: int64"
      ]
     },
     "execution_count": 113,
     "metadata": {},
     "output_type": "execute_result"
    }
   ],
   "source": [
    "# Compare holiday_flag vs new feature weekofyear_holiday: number of positive values\n",
    "X_feateng.Holiday_Flag.value_counts()"
   ]
  },
  {
   "cell_type": "code",
   "execution_count": 114,
   "metadata": {},
   "outputs": [
    {
     "data": {
      "text/plain": [
       "0.0    112\n",
       "Name: weekofyear_holiday, dtype: int64"
      ]
     },
     "execution_count": 114,
     "metadata": {},
     "output_type": "execute_result"
    }
   ],
   "source": [
    "X_feateng.weekofyear_holiday.value_counts()"
   ]
  },
  {
   "cell_type": "markdown",
   "metadata": {},
   "source": [
    "### Final dataframe with engineered features"
   ]
  },
  {
   "cell_type": "code",
   "execution_count": 115,
   "metadata": {},
   "outputs": [
    {
     "data": {
      "text/html": [
       "<div>\n",
       "<style scoped>\n",
       "    .dataframe tbody tr th:only-of-type {\n",
       "        vertical-align: middle;\n",
       "    }\n",
       "\n",
       "    .dataframe tbody tr th {\n",
       "        vertical-align: top;\n",
       "    }\n",
       "\n",
       "    .dataframe thead th {\n",
       "        text-align: right;\n",
       "    }\n",
       "</style>\n",
       "<table border=\"1\" class=\"dataframe\">\n",
       "  <thead>\n",
       "    <tr style=\"text-align: right;\">\n",
       "      <th></th>\n",
       "      <th>quarter</th>\n",
       "      <th>year</th>\n",
       "      <th>weekofyear</th>\n",
       "      <th>Weekly_Sales</th>\n",
       "      <th>Holiday_Flag</th>\n",
       "      <th>Temperature</th>\n",
       "      <th>Fuel_Price</th>\n",
       "      <th>CPI</th>\n",
       "      <th>Unemployment</th>\n",
       "      <th>Store_str</th>\n",
       "      <th>Store_group_CPI</th>\n",
       "      <th>Store_group_unemp</th>\n",
       "      <th>quarter_str</th>\n",
       "      <th>Temperature_group</th>\n",
       "      <th>weekofyear_holiday</th>\n",
       "    </tr>\n",
       "  </thead>\n",
       "  <tbody>\n",
       "    <tr>\n",
       "      <th>count</th>\n",
       "      <td>113.000000</td>\n",
       "      <td>113</td>\n",
       "      <td>113</td>\n",
       "      <td>1.310000e+02</td>\n",
       "      <td>120.000000</td>\n",
       "      <td>117.000000</td>\n",
       "      <td>119.000000</td>\n",
       "      <td>120.000000</td>\n",
       "      <td>117.000000</td>\n",
       "      <td>131</td>\n",
       "      <td>120</td>\n",
       "      <td>117</td>\n",
       "      <td>113</td>\n",
       "      <td>117</td>\n",
       "      <td>112.0</td>\n",
       "    </tr>\n",
       "    <tr>\n",
       "      <th>unique</th>\n",
       "      <td>NaN</td>\n",
       "      <td>3</td>\n",
       "      <td>45</td>\n",
       "      <td>NaN</td>\n",
       "      <td>NaN</td>\n",
       "      <td>NaN</td>\n",
       "      <td>NaN</td>\n",
       "      <td>NaN</td>\n",
       "      <td>NaN</td>\n",
       "      <td>19</td>\n",
       "      <td>4</td>\n",
       "      <td>4</td>\n",
       "      <td>4</td>\n",
       "      <td>3</td>\n",
       "      <td>NaN</td>\n",
       "    </tr>\n",
       "    <tr>\n",
       "      <th>top</th>\n",
       "      <td>NaN</td>\n",
       "      <td>y1</td>\n",
       "      <td>w25</td>\n",
       "      <td>NaN</td>\n",
       "      <td>NaN</td>\n",
       "      <td>NaN</td>\n",
       "      <td>NaN</td>\n",
       "      <td>NaN</td>\n",
       "      <td>NaN</td>\n",
       "      <td>3.0</td>\n",
       "      <td>lowsales_highCPI</td>\n",
       "      <td>highsales_highunemp</td>\n",
       "      <td>q2</td>\n",
       "      <td>mean_temp</td>\n",
       "      <td>NaN</td>\n",
       "    </tr>\n",
       "    <tr>\n",
       "      <th>freq</th>\n",
       "      <td>NaN</td>\n",
       "      <td>49</td>\n",
       "      <td>6</td>\n",
       "      <td>NaN</td>\n",
       "      <td>NaN</td>\n",
       "      <td>NaN</td>\n",
       "      <td>NaN</td>\n",
       "      <td>NaN</td>\n",
       "      <td>NaN</td>\n",
       "      <td>12</td>\n",
       "      <td>40</td>\n",
       "      <td>37</td>\n",
       "      <td>35</td>\n",
       "      <td>63</td>\n",
       "      <td>NaN</td>\n",
       "    </tr>\n",
       "    <tr>\n",
       "      <th>mean</th>\n",
       "      <td>2.415929</td>\n",
       "      <td>NaN</td>\n",
       "      <td>NaN</td>\n",
       "      <td>1.257990e+06</td>\n",
       "      <td>0.066667</td>\n",
       "      <td>15.781054</td>\n",
       "      <td>3.302908</td>\n",
       "      <td>180.175755</td>\n",
       "      <td>7.399427</td>\n",
       "      <td>NaN</td>\n",
       "      <td>NaN</td>\n",
       "      <td>NaN</td>\n",
       "      <td>NaN</td>\n",
       "      <td>NaN</td>\n",
       "      <td>0.0</td>\n",
       "    </tr>\n",
       "    <tr>\n",
       "      <th>std</th>\n",
       "      <td>1.066751</td>\n",
       "      <td>NaN</td>\n",
       "      <td>NaN</td>\n",
       "      <td>6.577463e+05</td>\n",
       "      <td>0.250490</td>\n",
       "      <td>10.259300</td>\n",
       "      <td>0.475435</td>\n",
       "      <td>39.723167</td>\n",
       "      <td>0.994117</td>\n",
       "      <td>NaN</td>\n",
       "      <td>NaN</td>\n",
       "      <td>NaN</td>\n",
       "      <td>NaN</td>\n",
       "      <td>NaN</td>\n",
       "      <td>0.0</td>\n",
       "    </tr>\n",
       "    <tr>\n",
       "      <th>min</th>\n",
       "      <td>1.000000</td>\n",
       "      <td>NaN</td>\n",
       "      <td>NaN</td>\n",
       "      <td>2.689290e+05</td>\n",
       "      <td>0.000000</td>\n",
       "      <td>-7.338889</td>\n",
       "      <td>2.514000</td>\n",
       "      <td>126.111903</td>\n",
       "      <td>5.143000</td>\n",
       "      <td>NaN</td>\n",
       "      <td>NaN</td>\n",
       "      <td>NaN</td>\n",
       "      <td>NaN</td>\n",
       "      <td>NaN</td>\n",
       "      <td>0.0</td>\n",
       "    </tr>\n",
       "    <tr>\n",
       "      <th>25%</th>\n",
       "      <td>2.000000</td>\n",
       "      <td>NaN</td>\n",
       "      <td>NaN</td>\n",
       "      <td>5.842439e+05</td>\n",
       "      <td>0.000000</td>\n",
       "      <td>7.122222</td>\n",
       "      <td>2.824000</td>\n",
       "      <td>132.579257</td>\n",
       "      <td>6.664000</td>\n",
       "      <td>NaN</td>\n",
       "      <td>NaN</td>\n",
       "      <td>NaN</td>\n",
       "      <td>NaN</td>\n",
       "      <td>NaN</td>\n",
       "      <td>0.0</td>\n",
       "    </tr>\n",
       "    <tr>\n",
       "      <th>50%</th>\n",
       "      <td>2.000000</td>\n",
       "      <td>NaN</td>\n",
       "      <td>NaN</td>\n",
       "      <td>1.366396e+06</td>\n",
       "      <td>0.000000</td>\n",
       "      <td>16.550000</td>\n",
       "      <td>3.435000</td>\n",
       "      <td>197.655672</td>\n",
       "      <td>7.368000</td>\n",
       "      <td>NaN</td>\n",
       "      <td>NaN</td>\n",
       "      <td>NaN</td>\n",
       "      <td>NaN</td>\n",
       "      <td>NaN</td>\n",
       "      <td>0.0</td>\n",
       "    </tr>\n",
       "    <tr>\n",
       "      <th>75%</th>\n",
       "      <td>3.000000</td>\n",
       "      <td>NaN</td>\n",
       "      <td>NaN</td>\n",
       "      <td>1.809576e+06</td>\n",
       "      <td>0.000000</td>\n",
       "      <td>24.188889</td>\n",
       "      <td>3.708500</td>\n",
       "      <td>214.904838</td>\n",
       "      <td>8.099000</td>\n",
       "      <td>NaN</td>\n",
       "      <td>NaN</td>\n",
       "      <td>NaN</td>\n",
       "      <td>NaN</td>\n",
       "      <td>NaN</td>\n",
       "      <td>0.0</td>\n",
       "    </tr>\n",
       "    <tr>\n",
       "      <th>max</th>\n",
       "      <td>4.000000</td>\n",
       "      <td>NaN</td>\n",
       "      <td>NaN</td>\n",
       "      <td>2.771397e+06</td>\n",
       "      <td>1.000000</td>\n",
       "      <td>33.138889</td>\n",
       "      <td>4.170000</td>\n",
       "      <td>226.968844</td>\n",
       "      <td>9.524000</td>\n",
       "      <td>NaN</td>\n",
       "      <td>NaN</td>\n",
       "      <td>NaN</td>\n",
       "      <td>NaN</td>\n",
       "      <td>NaN</td>\n",
       "      <td>0.0</td>\n",
       "    </tr>\n",
       "  </tbody>\n",
       "</table>\n",
       "</div>"
      ],
      "text/plain": [
       "           quarter year weekofyear  Weekly_Sales  Holiday_Flag  Temperature  \\\n",
       "count   113.000000  113        113  1.310000e+02    120.000000   117.000000   \n",
       "unique         NaN    3         45           NaN           NaN          NaN   \n",
       "top            NaN   y1        w25           NaN           NaN          NaN   \n",
       "freq           NaN   49          6           NaN           NaN          NaN   \n",
       "mean      2.415929  NaN        NaN  1.257990e+06      0.066667    15.781054   \n",
       "std       1.066751  NaN        NaN  6.577463e+05      0.250490    10.259300   \n",
       "min       1.000000  NaN        NaN  2.689290e+05      0.000000    -7.338889   \n",
       "25%       2.000000  NaN        NaN  5.842439e+05      0.000000     7.122222   \n",
       "50%       2.000000  NaN        NaN  1.366396e+06      0.000000    16.550000   \n",
       "75%       3.000000  NaN        NaN  1.809576e+06      0.000000    24.188889   \n",
       "max       4.000000  NaN        NaN  2.771397e+06      1.000000    33.138889   \n",
       "\n",
       "        Fuel_Price         CPI  Unemployment Store_str   Store_group_CPI  \\\n",
       "count   119.000000  120.000000    117.000000       131               120   \n",
       "unique         NaN         NaN           NaN        19                 4   \n",
       "top            NaN         NaN           NaN       3.0  lowsales_highCPI   \n",
       "freq           NaN         NaN           NaN        12                40   \n",
       "mean      3.302908  180.175755      7.399427       NaN               NaN   \n",
       "std       0.475435   39.723167      0.994117       NaN               NaN   \n",
       "min       2.514000  126.111903      5.143000       NaN               NaN   \n",
       "25%       2.824000  132.579257      6.664000       NaN               NaN   \n",
       "50%       3.435000  197.655672      7.368000       NaN               NaN   \n",
       "75%       3.708500  214.904838      8.099000       NaN               NaN   \n",
       "max       4.170000  226.968844      9.524000       NaN               NaN   \n",
       "\n",
       "          Store_group_unemp quarter_str Temperature_group  weekofyear_holiday  \n",
       "count                   117         113               117               112.0  \n",
       "unique                    4           4                 3                 NaN  \n",
       "top     highsales_highunemp          q2         mean_temp                 NaN  \n",
       "freq                     37          35                63                 NaN  \n",
       "mean                    NaN         NaN               NaN                 0.0  \n",
       "std                     NaN         NaN               NaN                 0.0  \n",
       "min                     NaN         NaN               NaN                 0.0  \n",
       "25%                     NaN         NaN               NaN                 0.0  \n",
       "50%                     NaN         NaN               NaN                 0.0  \n",
       "75%                     NaN         NaN               NaN                 0.0  \n",
       "max                     NaN         NaN               NaN                 0.0  "
      ]
     },
     "execution_count": 115,
     "metadata": {},
     "output_type": "execute_result"
    }
   ],
   "source": [
    "X_feateng.describe(include='all')"
   ]
  },
  {
   "cell_type": "code",
   "execution_count": 116,
   "metadata": {},
   "outputs": [
    {
     "data": {
      "text/plain": [
       "(131, 15)"
      ]
     },
     "execution_count": 116,
     "metadata": {},
     "output_type": "execute_result"
    }
   ],
   "source": [
    "X_feateng.shape"
   ]
  },
  {
   "cell_type": "markdown",
   "metadata": {},
   "source": [
    "## 3. Export processed variables for model training  "
   ]
  },
  {
   "cell_type": "code",
   "execution_count": 117,
   "metadata": {},
   "outputs": [
    {
     "name": "stdout",
     "output_type": "stream",
     "text": [
      "Target variable shape: (131,)\n"
     ]
    }
   ],
   "source": [
    "# Export target variable\n",
    "print('Target variable shape:',Y.shape)\n",
    "Y.to_csv('data/processed/Walmart_Store_sales-targetvar.csv', header=False, index=False)"
   ]
  },
  {
   "cell_type": "markdown",
   "metadata": {},
   "source": [
    "### Basic features"
   ]
  },
  {
   "cell_type": "code",
   "execution_count": 118,
   "metadata": {},
   "outputs": [
    {
     "name": "stdout",
     "output_type": "stream",
     "text": [
      "(131, 9)\n"
     ]
    },
    {
     "data": {
      "text/html": [
       "<div>\n",
       "<style scoped>\n",
       "    .dataframe tbody tr th:only-of-type {\n",
       "        vertical-align: middle;\n",
       "    }\n",
       "\n",
       "    .dataframe tbody tr th {\n",
       "        vertical-align: top;\n",
       "    }\n",
       "\n",
       "    .dataframe thead th {\n",
       "        text-align: right;\n",
       "    }\n",
       "</style>\n",
       "<table border=\"1\" class=\"dataframe\">\n",
       "  <thead>\n",
       "    <tr style=\"text-align: right;\">\n",
       "      <th></th>\n",
       "      <th>Store_str</th>\n",
       "      <th>quarter</th>\n",
       "      <th>year</th>\n",
       "      <th>Fuel_Price</th>\n",
       "      <th>weekofyear</th>\n",
       "      <th>Holiday_Flag</th>\n",
       "      <th>Temperature</th>\n",
       "      <th>CPI</th>\n",
       "      <th>Unemployment</th>\n",
       "    </tr>\n",
       "  </thead>\n",
       "  <tbody>\n",
       "    <tr>\n",
       "      <th>0</th>\n",
       "      <td>6.0</td>\n",
       "      <td>1.0</td>\n",
       "      <td>y2</td>\n",
       "      <td>3.045</td>\n",
       "      <td>7.0</td>\n",
       "      <td>NaN</td>\n",
       "      <td>15.338889</td>\n",
       "      <td>214.777523</td>\n",
       "      <td>6.858</td>\n",
       "    </tr>\n",
       "    <tr>\n",
       "      <th>1</th>\n",
       "      <td>13.0</td>\n",
       "      <td>1.0</td>\n",
       "      <td>y2</td>\n",
       "      <td>3.435</td>\n",
       "      <td>12.0</td>\n",
       "      <td>0.0</td>\n",
       "      <td>5.766667</td>\n",
       "      <td>128.616064</td>\n",
       "      <td>7.470</td>\n",
       "    </tr>\n",
       "    <tr>\n",
       "      <th>2</th>\n",
       "      <td>11.0</td>\n",
       "      <td>NaN</td>\n",
       "      <td>NaN</td>\n",
       "      <td>NaN</td>\n",
       "      <td>NaN</td>\n",
       "      <td>0.0</td>\n",
       "      <td>29.205556</td>\n",
       "      <td>214.556497</td>\n",
       "      <td>7.346</td>\n",
       "    </tr>\n",
       "  </tbody>\n",
       "</table>\n",
       "</div>"
      ],
      "text/plain": [
       "  Store_str  quarter year  Fuel_Price  weekofyear  Holiday_Flag  Temperature  \\\n",
       "0       6.0      1.0   y2       3.045         7.0           NaN    15.338889   \n",
       "1      13.0      1.0   y2       3.435        12.0           0.0     5.766667   \n",
       "2      11.0      NaN  NaN         NaN         NaN           0.0    29.205556   \n",
       "\n",
       "          CPI  Unemployment  \n",
       "0  214.777523         6.858  \n",
       "1  128.616064         7.470  \n",
       "2  214.556497         7.346  "
      ]
     },
     "metadata": {},
     "output_type": "display_data"
    }
   ],
   "source": [
    "# List of basic explanatory variables\n",
    "basic_vars_ls = [\"Store_str\", \"quarter\", \"year\", \"Fuel_Price\", \"weekofyear\", \"Holiday_Flag\", \"Temperature\", \"CPI\", \"Unemployment\"]\n",
    "\n",
    "# Subset X\n",
    "X = X_raw.copy()\n",
    "X = X[basic_vars_ls]\n",
    "\n",
    "# Verify shape and export\n",
    "print(X.shape)\n",
    "display(X.head(3))\n",
    "X.to_csv('data/processed/Walmart_Store_sales-expvar-basic.csv', index=False)"
   ]
  },
  {
   "cell_type": "markdown",
   "metadata": {},
   "source": [
    "### Engineered features"
   ]
  },
  {
   "cell_type": "code",
   "execution_count": 119,
   "metadata": {},
   "outputs": [
    {
     "name": "stdout",
     "output_type": "stream",
     "text": [
      "(131, 7)\n"
     ]
    },
    {
     "data": {
      "text/html": [
       "<div>\n",
       "<style scoped>\n",
       "    .dataframe tbody tr th:only-of-type {\n",
       "        vertical-align: middle;\n",
       "    }\n",
       "\n",
       "    .dataframe tbody tr th {\n",
       "        vertical-align: top;\n",
       "    }\n",
       "\n",
       "    .dataframe thead th {\n",
       "        text-align: right;\n",
       "    }\n",
       "</style>\n",
       "<table border=\"1\" class=\"dataframe\">\n",
       "  <thead>\n",
       "    <tr style=\"text-align: right;\">\n",
       "      <th></th>\n",
       "      <th>quarter_str</th>\n",
       "      <th>year</th>\n",
       "      <th>Fuel_Price</th>\n",
       "      <th>Temperature_group</th>\n",
       "      <th>Store_group_CPI</th>\n",
       "      <th>Store_group_unemp</th>\n",
       "      <th>weekofyear_holiday</th>\n",
       "    </tr>\n",
       "  </thead>\n",
       "  <tbody>\n",
       "    <tr>\n",
       "      <th>0</th>\n",
       "      <td>q1</td>\n",
       "      <td>y2</td>\n",
       "      <td>3.045</td>\n",
       "      <td>mean_temp</td>\n",
       "      <td>highsales_highCPI</td>\n",
       "      <td>highsales_lowunemp</td>\n",
       "      <td>NaN</td>\n",
       "    </tr>\n",
       "    <tr>\n",
       "      <th>1</th>\n",
       "      <td>q1</td>\n",
       "      <td>y2</td>\n",
       "      <td>3.435</td>\n",
       "      <td>low_temp</td>\n",
       "      <td>highsales_lowCPI</td>\n",
       "      <td>highsales_highunemp</td>\n",
       "      <td>0.0</td>\n",
       "    </tr>\n",
       "    <tr>\n",
       "      <th>2</th>\n",
       "      <td>NaN</td>\n",
       "      <td>NaN</td>\n",
       "      <td>NaN</td>\n",
       "      <td>high_temp</td>\n",
       "      <td>lowsales_highCPI</td>\n",
       "      <td>lowsales_lowunemp</td>\n",
       "      <td>0.0</td>\n",
       "    </tr>\n",
       "  </tbody>\n",
       "</table>\n",
       "</div>"
      ],
      "text/plain": [
       "  quarter_str year  Fuel_Price Temperature_group    Store_group_CPI  \\\n",
       "0          q1   y2       3.045         mean_temp  highsales_highCPI   \n",
       "1          q1   y2       3.435          low_temp   highsales_lowCPI   \n",
       "2         NaN  NaN         NaN         high_temp   lowsales_highCPI   \n",
       "\n",
       "     Store_group_unemp  weekofyear_holiday  \n",
       "0   highsales_lowunemp                 NaN  \n",
       "1  highsales_highunemp                 0.0  \n",
       "2    lowsales_lowunemp                 0.0  "
      ]
     },
     "metadata": {},
     "output_type": "display_data"
    }
   ],
   "source": [
    "# List of engineered explanatory variables\n",
    "\n",
    "eng_vars_ls = [ \"quarter_str\", \"year\", \"Fuel_Price\", \"Temperature_group\", \"Store_group_CPI\", \"Store_group_unemp\", \"weekofyear_holiday\"]\n",
    "\n",
    "# Subset X\n",
    "X_feateng_subset = X_feateng.copy()\n",
    "X_feateng_subset = X_feateng_subset[eng_vars_ls]\n",
    "\n",
    "\n",
    "# Verify shape and export\n",
    "print(X_feateng_subset.shape)\n",
    "display(X_feateng_subset.head(3))\n",
    "X_feateng_subset.to_csv('data/processed/Walmart_Store_sales-expvar-feateng.csv', index=False)"
   ]
  },
  {
   "cell_type": "markdown",
   "metadata": {},
   "source": [
    "## 4. Data processing summary"
   ]
  },
  {
   "cell_type": "markdown",
   "metadata": {},
   "source": [
    "**Taget variable** : Y = *Weekly_Sales* (based on distribution no need to log values; no outliers)  \n",
    "\n",
    "**Basic explanatory variables** : *quarter*, *year*, *weekofyear*, *Holiday_Flag*, *Temperature*, *CPI*, *Unemployment*\n",
    "\n",
    "**Unique variables**: *Store_str*  \n",
    "\n",
    "**Outlier samples**: Store 12\n",
    "\n",
    "**Number of samples** : 131 (136 if no outlier removed)  \n",
    "\n",
    "**Feature Engineering / Variable processing**:  \n",
    "- *Store_group* : defined according to weekly  CPI and/or Unemployment (*Store_group_CPI* ; *Store_group_unemp*)\n",
    "- *quarter_str* : categorize quarter  \n",
    "- *Temperature_group* : categorize temperature in 3 groups based on min and max temperature  \n",
    "- *weekofyear_holiday* : indicate if there is a holiday happening for that week of sales  "
   ]
  }
 ],
 "metadata": {
  "interpreter": {
   "hash": "ac0fa52fb04ce33a0b1a6fe7dce9738c292bebc8dc4d196073405f436c00a9a4"
  },
  "kernelspec": {
   "display_name": "Python 3.9.7 ('jedha_env': venv)",
   "language": "python",
   "name": "python3"
  },
  "language_info": {
   "codemirror_mode": {
    "name": "ipython",
    "version": 3
   },
   "file_extension": ".py",
   "mimetype": "text/x-python",
   "name": "python",
   "nbconvert_exporter": "python",
   "pygments_lexer": "ipython3",
   "version": "3.9.7"
  },
  "orig_nbformat": 4
 },
 "nbformat": 4,
 "nbformat_minor": 2
}
