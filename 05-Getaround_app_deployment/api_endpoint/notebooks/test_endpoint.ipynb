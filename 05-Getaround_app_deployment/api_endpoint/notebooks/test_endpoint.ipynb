{
 "cells": [
  {
   "cell_type": "markdown",
   "metadata": {},
   "source": [
    "Test first endpoint locally to detect any possible errors"
   ]
  },
  {
   "cell_type": "markdown",
   "metadata": {},
   "source": [
    "## Import libraries"
   ]
  },
  {
   "cell_type": "code",
   "execution_count": 1,
   "metadata": {},
   "outputs": [],
   "source": [
    "import requests"
   ]
  },
  {
   "cell_type": "markdown",
   "metadata": {},
   "source": [
    "## URL to test"
   ]
  },
  {
   "cell_type": "code",
   "execution_count": 2,
   "metadata": {},
   "outputs": [],
   "source": [
    "# Test locally or on heroku deployed website\n",
    "#url = \"http://127.0.0.1:5000/predict\"\n",
    "url = \"https://getaroundprice-app-amv.herokuapp.com/predict\"\n"
   ]
  },
  {
   "cell_type": "markdown",
   "metadata": {},
   "source": [
    "## Input in json format"
   ]
  },
  {
   "cell_type": "code",
   "execution_count": 3,
   "metadata": {},
   "outputs": [],
   "source": [
    "# This a simple example of input\n",
    "input_simple = {\n",
    "    \"input\": [\"Citroën\", 140411, 100, \"diesel\", \"black\", \"convertible\", True, True, False, False, True, True, True]\n",
    "}"
   ]
  },
  {
   "cell_type": "markdown",
   "metadata": {},
   "source": [
    "## Test request"
   ]
  },
  {
   "cell_type": "code",
   "execution_count": 30,
   "metadata": {},
   "outputs": [
    {
     "data": {
      "text/plain": [
       "{'The predicted rental price per day in euros is': '107'}"
      ]
     },
     "execution_count": 30,
     "metadata": {},
     "output_type": "execute_result"
    }
   ],
   "source": [
    "res = requests.post(url, json={\n",
    "    \"input\": [\"Citröen\", 140411, \"100\", \"diesel\", \"black\", \"convertible\", \"true\", \"true\", \"false\", \"false\", \"true\", \"true\", \"true\"]\n",
    "})\n",
    "res.json()"
   ]
  },
  {
   "cell_type": "code",
   "execution_count": 28,
   "metadata": {},
   "outputs": [
    {
     "name": "stdout",
     "output_type": "stream",
     "text": [
      "HTTP/1.1 200 OK\n",
      "\u001b[1mConnection\u001b[0m: keep-alive\n",
      "\u001b[1mServer\u001b[0m: gunicorn\n",
      "\u001b[1mDate\u001b[0m: Sat, 28 May 2022 11:42:11 GMT\n",
      "\u001b[1mContent-Type\u001b[0m: application/json\n",
      "\u001b[1mContent-Length\u001b[0m: 57\n",
      "\u001b[1mVia\u001b[0m: 1.1 vegur\n",
      "\n",
      "{\"The predicted rental price per day in euros is\":\"107\"}\n"
     ]
    }
   ],
   "source": [
    "# Check curl posting works as well\n",
    "!curl -i -H \"Content-Type: application/json\" -X POST -d '{\"input\": [\"Citro\\\\u00ebn\", 140411, \"100\", \"diesel\", \"black\", \"convertible\", \"true\", \"true\", \"false\", \"false\", \"true\", \"true\", \"true\"]}' https://getaroundprice-app-amv.herokuapp.com/predict"
   ]
  }
 ],
 "metadata": {
  "interpreter": {
   "hash": "4a653b1a31259b5a9480a00728f36f6d544d23b56dac7f7478acc11a2e7ab16f"
  },
  "kernelspec": {
   "display_name": "Python 3.9.12 ('mlflow')",
   "language": "python",
   "name": "python3"
  },
  "language_info": {
   "codemirror_mode": {
    "name": "ipython",
    "version": 3
   },
   "file_extension": ".py",
   "mimetype": "text/x-python",
   "name": "python",
   "nbconvert_exporter": "python",
   "pygments_lexer": "ipython3",
   "version": "3.9.12"
  },
  "orig_nbformat": 4
 },
 "nbformat": 4,
 "nbformat_minor": 2
}
