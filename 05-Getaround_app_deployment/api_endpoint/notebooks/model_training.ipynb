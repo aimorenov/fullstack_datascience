{
 "cells": [
  {
   "cell_type": "markdown",
   "metadata": {},
   "source": [
    "# Model training\n",
    "\n",
    "In this notebook I:  \n",
    "- Trained a linear regression model to predict the optimal rental price per day based on multiple features\n",
    "- Regularized the model for any overfitting  \n",
    "- Fine tuned the best hyperparameters to use  \n",
    "- Evaluated model robustness via a cross validation"
   ]
  },
  {
   "cell_type": "markdown",
   "metadata": {},
   "source": [
    "## Import libraries"
   ]
  },
  {
   "cell_type": "code",
   "execution_count": 80,
   "metadata": {},
   "outputs": [],
   "source": [
    "import os\n",
    "import joblib\n",
    "import pandas as pd\n",
    "from sklearn.model_selection import train_test_split\n",
    "from sklearn.pipeline import Pipeline\n",
    "from sklearn.preprocessing import  StandardScaler, OneHotEncoder\n",
    "from sklearn.compose import ColumnTransformer\n",
    "from sklearn.linear_model import LinearRegression, Ridge, Lasso\n",
    "from sklearn.ensemble import RandomForestRegressor\n",
    "from sklearn.metrics import r2_score"
   ]
  },
  {
   "cell_type": "code",
   "execution_count": 58,
   "metadata": {},
   "outputs": [],
   "source": [
    "DATASET_PATH = \"../data/get_around_pricing_project_cleaned.csv\"\n",
    "MODELS_FOLDER = \"models\""
   ]
  },
  {
   "cell_type": "markdown",
   "metadata": {},
   "source": [
    "## Import data"
   ]
  },
  {
   "cell_type": "code",
   "execution_count": 59,
   "metadata": {},
   "outputs": [
    {
     "name": "stdout",
     "output_type": "stream",
     "text": [
      "(4842, 14)\n",
      "Index(['model_key', 'mileage', 'engine_power', 'fuel', 'paint_color',\n",
      "       'car_type', 'private_parking_available', 'has_gps',\n",
      "       'has_air_conditioning', 'automatic_car', 'has_getaround_connect',\n",
      "       'has_speed_regulator', 'winter_tires', 'rental_price_per_day'],\n",
      "      dtype='object')\n"
     ]
    }
   ],
   "source": [
    "# Load CSV file of cleaned data\n",
    "df = pd.read_csv(DATASET_PATH)\n",
    "print(df.shape)\n",
    "print(df.columns)"
   ]
  },
  {
   "cell_type": "markdown",
   "metadata": {},
   "source": [
    "## 1. Train test split"
   ]
  },
  {
   "cell_type": "code",
   "execution_count": 60,
   "metadata": {},
   "outputs": [
    {
     "name": "stdout",
     "output_type": "stream",
     "text": [
      "Target lenght: (4842,)\n",
      "Explanatory variables df shape: (4842, 13)\n"
     ]
    }
   ],
   "source": [
    "# Separate target from explanatory variables\n",
    "y = df[\"rental_price_per_day\"]\n",
    "X = df.drop([\"rental_price_per_day\"], axis=1)\n",
    "\n",
    "print('Target lenght:', y.shape)\n",
    "print('Explanatory variables df shape:', X.shape)"
   ]
  },
  {
   "cell_type": "code",
   "execution_count": 61,
   "metadata": {},
   "outputs": [
    {
     "name": "stdout",
     "output_type": "stream",
     "text": [
      "X train shape: (3873, 13)\n",
      "y train shape (3873,)\n",
      "X test shape: (969, 13)\n",
      "y test shape (969,)\n"
     ]
    }
   ],
   "source": [
    "#Split train and test\n",
    "X_train, X_test, y_train, y_test = train_test_split(X, y, test_size=0.2, random_state=42)\n",
    "\n",
    "print('X train shape:', X_train.shape)\n",
    "print('y train shape', y_train.shape)\n",
    "print('X test shape:', X_test.shape)\n",
    "print('y test shape', y_test.shape)"
   ]
  },
  {
   "cell_type": "code",
   "execution_count": 62,
   "metadata": {},
   "outputs": [
    {
     "name": "stdout",
     "output_type": "stream",
     "text": [
      "[['Citroën' 234365 135 'diesel' 'black' 'estate' True True False False\n",
      "  True False True]\n",
      " ['Volkswagen' 57344 70 'diesel' 'grey' 'hatchback' False True False\n",
      "  False False False True]]\n",
      "[['Toyota' 193657 85 'diesel' 'silver' 'van' False False False False\n",
      "  False False True]\n",
      " ['Audi' 178112 170 'petrol' 'silver' 'sedan' True True True False False\n",
      "  False True]]\n",
      "\n",
      "[127, 109]\n",
      "[94, 37]\n"
     ]
    }
   ],
   "source": [
    "# Convert dataframes to numpy arrays for pre-processing\n",
    "X_train = X_train.values\n",
    "X_test = X_test.values\n",
    "y_train = y_train.tolist()\n",
    "y_test = y_test.tolist()\n",
    "\n",
    "print(X_train[0:2,:])\n",
    "print(X_test[0:2,:])\n",
    "print()\n",
    "print(y_train[0:2])\n",
    "print(y_test[0:2])"
   ]
  },
  {
   "cell_type": "markdown",
   "metadata": {},
   "source": [
    "## 2. Pre-processing"
   ]
  },
  {
   "cell_type": "code",
   "execution_count": 63,
   "metadata": {},
   "outputs": [
    {
     "name": "stdout",
     "output_type": "stream",
     "text": [
      "Found numeric features  ['mileage', 'engine_power']  at positions  [1, 2]\n",
      "Found categorical features  ['model_key', 'fuel', 'paint_color', 'car_type', 'private_parking_available', 'has_gps', 'has_air_conditioning', 'automatic_car', 'has_getaround_connect', 'has_speed_regulator', 'winter_tires']  at positions  [0, 3, 4, 5, 6, 7, 8, 9, 10, 11, 12]\n"
     ]
    }
   ],
   "source": [
    "## Script re-used from scripts given during Jedha Bootcamp course \n",
    "\n",
    "# Automatically detect positions of numeric/categorical features in explanatory variables dataframe\n",
    "idx = 0\n",
    "numeric_features = []\n",
    "numeric_indices = []\n",
    "categorical_features = []\n",
    "categorical_indices = []\n",
    "for i,t in X.dtypes.iteritems():\n",
    "    if ('float' in str(t)) or ('int' in str(t)) :\n",
    "        numeric_features.append(i)\n",
    "        numeric_indices.append(idx)\n",
    "    else :\n",
    "        categorical_features.append(i)\n",
    "        categorical_indices.append(idx)\n",
    "\n",
    "    idx = idx + 1\n",
    "\n",
    "print('Found numeric features ', numeric_features,' at positions ', numeric_indices)\n",
    "print('Found categorical features ', categorical_features,' at positions ', categorical_indices)"
   ]
  },
  {
   "cell_type": "code",
   "execution_count": 64,
   "metadata": {},
   "outputs": [],
   "source": [
    "# Pipeline for pre-processing categorical features and standardizing numerical features\n",
    "\n",
    "# Normalization\n",
    "numeric_transformer = StandardScaler()\n",
    "\n",
    "# One hot encoding\n",
    "categorical_transformer = OneHotEncoder(drop='first')\n",
    "\n",
    "featureencoder = ColumnTransformer(\n",
    "    transformers=[\n",
    "        ('cat', categorical_transformer, categorical_indices),    \n",
    "        ('num', numeric_transformer, numeric_indices)\n",
    "        ]\n",
    "    )"
   ]
  },
  {
   "cell_type": "markdown",
   "metadata": {},
   "source": [
    "## 3. Linear regression model"
   ]
  },
  {
   "cell_type": "code",
   "execution_count": 81,
   "metadata": {},
   "outputs": [],
   "source": [
    "# Define full pipeline including pre-processing and basline linear regressor\n",
    "regressor = Pipeline([\n",
    "        ('preprocessing', featureencoder),\n",
    "        ('lin_reg', LinearRegression())\n",
    "    ])\n",
    "\n",
    "regressor_ridge = Pipeline([\n",
    "        ('preprocessing', featureencoder),\n",
    "        ('lin_reg', Ridge(alpha=2, tol=1e-04))\n",
    "    ])\n",
    "\n",
    "regressor_lasso = Pipeline([\n",
    "        ('preprocessing', featureencoder),\n",
    "        ('lin_reg', Lasso(alpha=1.5))\n",
    "    ])\n",
    "\n",
    "regressor_rf = Pipeline([\n",
    "        ('preprocessing', featureencoder),\n",
    "        ('lin_reg', RandomForestRegressor())\n",
    "    ])"
   ]
  },
  {
   "cell_type": "markdown",
   "metadata": {},
   "source": [
    "### Model performance"
   ]
  },
  {
   "cell_type": "code",
   "execution_count": null,
   "metadata": {},
   "outputs": [
    {
     "name": "stdout",
     "output_type": "stream",
     "text": [
      "R2 score on training set:  0.7164492031260445\n",
      "R2 score on test set:  0.6516031988969857\n"
     ]
    }
   ],
   "source": [
    "# Fit model and predict target variable\n",
    "regressor.fit(X_train, y_train)\n",
    "\n",
    "y_pred_train = regressor.predict(X_train)\n",
    "y_pred_test = regressor.predict(X_test)\n",
    "\n",
    "print(\"R2 score on training set: \", r2_score(y_train, y_pred_train))\n",
    "print(\"R2 score on test set: \", r2_score(y_test, y_pred_test))"
   ]
  },
  {
   "cell_type": "code",
   "execution_count": 75,
   "metadata": {},
   "outputs": [
    {
     "name": "stdout",
     "output_type": "stream",
     "text": [
      "R2 score on training set:  0.7139992796034528\n",
      "R2 score on test set:  0.6863492622374188\n"
     ]
    }
   ],
   "source": [
    "# Ridge regularization\n",
    "# Fit model and predict target variable\n",
    "regressor_ridge.fit(X_train, y_train)\n",
    "\n",
    "y_pred_train = regressor_ridge.predict(X_train)\n",
    "y_pred_test = regressor_ridge.predict(X_test)\n",
    "\n",
    "print(\"R2 score on training set: \", r2_score(y_train, y_pred_train))\n",
    "print(\"R2 score on test set: \", r2_score(y_test, y_pred_test))"
   ]
  },
  {
   "cell_type": "code",
   "execution_count": 78,
   "metadata": {},
   "outputs": [
    {
     "name": "stdout",
     "output_type": "stream",
     "text": [
      "R2 score on training set:  0.6123740505563878\n",
      "R2 score on test set:  0.607668530839915\n"
     ]
    }
   ],
   "source": [
    "# Lasso regularization\n",
    "# Fit model and predict target variable\n",
    "regressor_lasso.fit(X_train, y_train)\n",
    "\n",
    "y_pred_train = regressor_lasso.predict(X_train)\n",
    "y_pred_test = regressor_lasso.predict(X_test)\n",
    "\n",
    "print(\"R2 score on training set: \", r2_score(y_train, y_pred_train))\n",
    "print(\"R2 score on test set: \", r2_score(y_test, y_pred_test))"
   ]
  },
  {
   "cell_type": "code",
   "execution_count": 82,
   "metadata": {},
   "outputs": [
    {
     "name": "stdout",
     "output_type": "stream",
     "text": [
      "R2 score on training set:  0.9646749846603689\n",
      "R2 score on test set:  0.7556731715860856\n"
     ]
    }
   ],
   "source": [
    "# Random Forest Regressor\n",
    "# Fit model and predict target variable\n",
    "regressor_rf.fit(X_train, y_train)\n",
    "\n",
    "y_pred_train = regressor_rf.predict(X_train)\n",
    "y_pred_test = regressor_rf.predict(X_test)\n",
    "\n",
    "print(\"R2 score on training set: \", r2_score(y_train, y_pred_train))\n",
    "print(\"R2 score on test set: \", r2_score(y_test, y_pred_test))"
   ]
  },
  {
   "cell_type": "code",
   "execution_count": null,
   "metadata": {},
   "outputs": [],
   "source": [
    "# Need to carry out gridsearch to fine tune hyperparameters of RF"
   ]
  }
 ],
 "metadata": {
  "interpreter": {
   "hash": "cd44dc819572b2b78bf39e6901e46fbecc7b90b284cd3dd297da5170fea9a38b"
  },
  "kernelspec": {
   "display_name": "Python 3.8.9 ('env': venv)",
   "language": "python",
   "name": "python3"
  },
  "language_info": {
   "codemirror_mode": {
    "name": "ipython",
    "version": 3
   },
   "file_extension": ".py",
   "mimetype": "text/x-python",
   "name": "python",
   "nbconvert_exporter": "python",
   "pygments_lexer": "ipython3",
   "version": "3.8.9"
  },
  "orig_nbformat": 4
 },
 "nbformat": 4,
 "nbformat_minor": 2
}
